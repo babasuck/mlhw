{
 "cells": [
  {
   "cell_type": "code",
   "execution_count": 48,
   "id": "d58044c1",
   "metadata": {},
   "outputs": [],
   "source": [
    "import pandas as pd\n",
    "import numpy as np"
   ]
  },
  {
   "cell_type": "code",
   "execution_count": 49,
   "id": "029de32e",
   "metadata": {},
   "outputs": [
    {
     "data": {
      "text/plain": [
       "Gender                         object\n",
       "Age                             int64\n",
       "Profession                     object\n",
       "Location                       object\n",
       "Loan Amount Request (USD)     float64\n",
       "Credit Score                  float64\n",
       "Property Age                  float64\n",
       "Co-Applicant                    int64\n",
       "Loan Sanction Amount (USD)    float64\n",
       "dtype: object"
      ]
     },
     "execution_count": 49,
     "metadata": {},
     "output_type": "execute_result"
    }
   ],
   "source": [
    "COLUMNS = ['Age', 'Loan Amount Request (USD)', 'Credit Score',\n",
    "           'Property Age', 'Co-Applicant', 'Loan Sanction Amount (USD)', 'Gender', 'Profession', 'Location']\n",
    "\n",
    "data = pd.read_csv(r\"4\\train.csv\", usecols=COLUMNS)\n",
    "data.dtypes"
   ]
  },
  {
   "cell_type": "code",
   "execution_count": 50,
   "id": "45a248d1",
   "metadata": {},
   "outputs": [
    {
     "data": {
      "application/vnd.microsoft.datawrangler.viewer.v0+json": {
       "columns": [
        {
         "name": "index",
         "rawType": "int64",
         "type": "integer"
        },
        {
         "name": "Gender",
         "rawType": "object",
         "type": "string"
        },
        {
         "name": "Age",
         "rawType": "int64",
         "type": "integer"
        },
        {
         "name": "Profession",
         "rawType": "object",
         "type": "string"
        },
        {
         "name": "Location",
         "rawType": "object",
         "type": "string"
        },
        {
         "name": "Loan Amount Request (USD)",
         "rawType": "float64",
         "type": "float"
        },
        {
         "name": "Credit Score",
         "rawType": "float64",
         "type": "float"
        },
        {
         "name": "Property Age",
         "rawType": "float64",
         "type": "float"
        },
        {
         "name": "Co-Applicant",
         "rawType": "int64",
         "type": "integer"
        },
        {
         "name": "Loan Sanction Amount (USD)",
         "rawType": "float64",
         "type": "float"
        }
       ],
       "conversionMethod": "pd.DataFrame",
       "ref": "6988f37d-fd4d-4539-83d8-2191b2628a82",
       "rows": [
        [
         "0",
         "F",
         "56",
         "Working",
         "Semi-Urban",
         "72809.58",
         "809.44",
         "1933.05",
         "1",
         "54607.18"
        ],
        [
         "1",
         "M",
         "32",
         "Working",
         "Semi-Urban",
         "46837.47",
         "780.4",
         "4952.91",
         "1",
         "37469.98"
        ],
        [
         "2",
         "F",
         "65",
         "Pensioner",
         "Semi-Urban",
         "45593.04",
         "833.15",
         "988.19",
         "0",
         "36474.43"
        ],
        [
         "3",
         "F",
         "65",
         "Pensioner",
         "Rural",
         "80057.92",
         "832.7",
         null,
         "1",
         "56040.54"
        ],
        [
         "4",
         "F",
         "31",
         "Working",
         "Semi-Urban",
         "113858.89",
         "745.55",
         "2614.77",
         "1",
         "74008.28"
        ]
       ],
       "shape": {
        "columns": 9,
        "rows": 5
       }
      },
      "text/html": [
       "<div>\n",
       "<style scoped>\n",
       "    .dataframe tbody tr th:only-of-type {\n",
       "        vertical-align: middle;\n",
       "    }\n",
       "\n",
       "    .dataframe tbody tr th {\n",
       "        vertical-align: top;\n",
       "    }\n",
       "\n",
       "    .dataframe thead th {\n",
       "        text-align: right;\n",
       "    }\n",
       "</style>\n",
       "<table border=\"1\" class=\"dataframe\">\n",
       "  <thead>\n",
       "    <tr style=\"text-align: right;\">\n",
       "      <th></th>\n",
       "      <th>Gender</th>\n",
       "      <th>Age</th>\n",
       "      <th>Profession</th>\n",
       "      <th>Location</th>\n",
       "      <th>Loan Amount Request (USD)</th>\n",
       "      <th>Credit Score</th>\n",
       "      <th>Property Age</th>\n",
       "      <th>Co-Applicant</th>\n",
       "      <th>Loan Sanction Amount (USD)</th>\n",
       "    </tr>\n",
       "  </thead>\n",
       "  <tbody>\n",
       "    <tr>\n",
       "      <th>0</th>\n",
       "      <td>F</td>\n",
       "      <td>56</td>\n",
       "      <td>Working</td>\n",
       "      <td>Semi-Urban</td>\n",
       "      <td>72809.58</td>\n",
       "      <td>809.44</td>\n",
       "      <td>1933.05</td>\n",
       "      <td>1</td>\n",
       "      <td>54607.18</td>\n",
       "    </tr>\n",
       "    <tr>\n",
       "      <th>1</th>\n",
       "      <td>M</td>\n",
       "      <td>32</td>\n",
       "      <td>Working</td>\n",
       "      <td>Semi-Urban</td>\n",
       "      <td>46837.47</td>\n",
       "      <td>780.40</td>\n",
       "      <td>4952.91</td>\n",
       "      <td>1</td>\n",
       "      <td>37469.98</td>\n",
       "    </tr>\n",
       "    <tr>\n",
       "      <th>2</th>\n",
       "      <td>F</td>\n",
       "      <td>65</td>\n",
       "      <td>Pensioner</td>\n",
       "      <td>Semi-Urban</td>\n",
       "      <td>45593.04</td>\n",
       "      <td>833.15</td>\n",
       "      <td>988.19</td>\n",
       "      <td>0</td>\n",
       "      <td>36474.43</td>\n",
       "    </tr>\n",
       "    <tr>\n",
       "      <th>3</th>\n",
       "      <td>F</td>\n",
       "      <td>65</td>\n",
       "      <td>Pensioner</td>\n",
       "      <td>Rural</td>\n",
       "      <td>80057.92</td>\n",
       "      <td>832.70</td>\n",
       "      <td>NaN</td>\n",
       "      <td>1</td>\n",
       "      <td>56040.54</td>\n",
       "    </tr>\n",
       "    <tr>\n",
       "      <th>4</th>\n",
       "      <td>F</td>\n",
       "      <td>31</td>\n",
       "      <td>Working</td>\n",
       "      <td>Semi-Urban</td>\n",
       "      <td>113858.89</td>\n",
       "      <td>745.55</td>\n",
       "      <td>2614.77</td>\n",
       "      <td>1</td>\n",
       "      <td>74008.28</td>\n",
       "    </tr>\n",
       "  </tbody>\n",
       "</table>\n",
       "</div>"
      ],
      "text/plain": [
       "  Gender  Age Profession    Location  Loan Amount Request (USD)  Credit Score  \\\n",
       "0      F   56    Working  Semi-Urban                   72809.58        809.44   \n",
       "1      M   32    Working  Semi-Urban                   46837.47        780.40   \n",
       "2      F   65  Pensioner  Semi-Urban                   45593.04        833.15   \n",
       "3      F   65  Pensioner       Rural                   80057.92        832.70   \n",
       "4      F   31    Working  Semi-Urban                  113858.89        745.55   \n",
       "\n",
       "   Property Age  Co-Applicant  Loan Sanction Amount (USD)  \n",
       "0       1933.05             1                    54607.18  \n",
       "1       4952.91             1                    37469.98  \n",
       "2        988.19             0                    36474.43  \n",
       "3           NaN             1                    56040.54  \n",
       "4       2614.77             1                    74008.28  "
      ]
     },
     "execution_count": 50,
     "metadata": {},
     "output_type": "execute_result"
    }
   ],
   "source": [
    "data.head()"
   ]
  },
  {
   "cell_type": "code",
   "execution_count": 51,
   "id": "6c0c4d66",
   "metadata": {},
   "outputs": [
    {
     "data": {
      "application/vnd.microsoft.datawrangler.viewer.v0+json": {
       "columns": [
        {
         "name": "index",
         "rawType": "object",
         "type": "string"
        },
        {
         "name": "Age",
         "rawType": "float64",
         "type": "float"
        },
        {
         "name": "Loan Amount Request (USD)",
         "rawType": "float64",
         "type": "float"
        },
        {
         "name": "Credit Score",
         "rawType": "float64",
         "type": "float"
        },
        {
         "name": "Property Age",
         "rawType": "float64",
         "type": "float"
        },
        {
         "name": "Co-Applicant",
         "rawType": "float64",
         "type": "float"
        },
        {
         "name": "Loan Sanction Amount (USD)",
         "rawType": "float64",
         "type": "float"
        }
       ],
       "conversionMethod": "pd.DataFrame",
       "ref": "85bb2b58-f863-44da-be35-1c4860400d6b",
       "rows": [
        [
         "count",
         "30000.0",
         "30000.0",
         "28297.0",
         "25150.0",
         "30000.0",
         "29660.0"
        ],
        [
         "mean",
         "40.0923",
         "88826.33385533333",
         "739.8853811358094",
         "2631.1194397614317",
         "-4.7438666666666665",
         "47649.342208361435"
        ],
        [
         "std",
         "16.04512892589965",
         "59536.9496048716",
         "72.1638460975076",
         "11322.677000286172",
         "74.61459267661317",
         "48221.146685618456"
        ],
        [
         "min",
         "18.0",
         "6048.24",
         "580.0",
         "377.7",
         "-999.0",
         "-999.0"
        ],
        [
         "25%",
         "25.0",
         "41177.755000000005",
         "681.88",
         "1650.45",
         "1.0",
         "0.0"
        ],
        [
         "50%",
         "40.0",
         "75128.075",
         "739.82",
         "2223.25",
         "1.0",
         "35209.395000000004"
        ],
        [
         "75%",
         "55.0",
         "119964.605",
         "799.12",
         "3091.4075000000003",
         "1.0",
         "74261.25"
        ],
        [
         "max",
         "65.0",
         "621497.82",
         "896.26",
         "1777460.21",
         "1.0",
         "481907.32"
        ]
       ],
       "shape": {
        "columns": 6,
        "rows": 8
       }
      },
      "text/html": [
       "<div>\n",
       "<style scoped>\n",
       "    .dataframe tbody tr th:only-of-type {\n",
       "        vertical-align: middle;\n",
       "    }\n",
       "\n",
       "    .dataframe tbody tr th {\n",
       "        vertical-align: top;\n",
       "    }\n",
       "\n",
       "    .dataframe thead th {\n",
       "        text-align: right;\n",
       "    }\n",
       "</style>\n",
       "<table border=\"1\" class=\"dataframe\">\n",
       "  <thead>\n",
       "    <tr style=\"text-align: right;\">\n",
       "      <th></th>\n",
       "      <th>Age</th>\n",
       "      <th>Loan Amount Request (USD)</th>\n",
       "      <th>Credit Score</th>\n",
       "      <th>Property Age</th>\n",
       "      <th>Co-Applicant</th>\n",
       "      <th>Loan Sanction Amount (USD)</th>\n",
       "    </tr>\n",
       "  </thead>\n",
       "  <tbody>\n",
       "    <tr>\n",
       "      <th>count</th>\n",
       "      <td>30000.000000</td>\n",
       "      <td>30000.000000</td>\n",
       "      <td>28297.000000</td>\n",
       "      <td>2.515000e+04</td>\n",
       "      <td>30000.000000</td>\n",
       "      <td>29660.000000</td>\n",
       "    </tr>\n",
       "    <tr>\n",
       "      <th>mean</th>\n",
       "      <td>40.092300</td>\n",
       "      <td>88826.333855</td>\n",
       "      <td>739.885381</td>\n",
       "      <td>2.631119e+03</td>\n",
       "      <td>-4.743867</td>\n",
       "      <td>47649.342208</td>\n",
       "    </tr>\n",
       "    <tr>\n",
       "      <th>std</th>\n",
       "      <td>16.045129</td>\n",
       "      <td>59536.949605</td>\n",
       "      <td>72.163846</td>\n",
       "      <td>1.132268e+04</td>\n",
       "      <td>74.614593</td>\n",
       "      <td>48221.146686</td>\n",
       "    </tr>\n",
       "    <tr>\n",
       "      <th>min</th>\n",
       "      <td>18.000000</td>\n",
       "      <td>6048.240000</td>\n",
       "      <td>580.000000</td>\n",
       "      <td>3.777000e+02</td>\n",
       "      <td>-999.000000</td>\n",
       "      <td>-999.000000</td>\n",
       "    </tr>\n",
       "    <tr>\n",
       "      <th>25%</th>\n",
       "      <td>25.000000</td>\n",
       "      <td>41177.755000</td>\n",
       "      <td>681.880000</td>\n",
       "      <td>1.650450e+03</td>\n",
       "      <td>1.000000</td>\n",
       "      <td>0.000000</td>\n",
       "    </tr>\n",
       "    <tr>\n",
       "      <th>50%</th>\n",
       "      <td>40.000000</td>\n",
       "      <td>75128.075000</td>\n",
       "      <td>739.820000</td>\n",
       "      <td>2.223250e+03</td>\n",
       "      <td>1.000000</td>\n",
       "      <td>35209.395000</td>\n",
       "    </tr>\n",
       "    <tr>\n",
       "      <th>75%</th>\n",
       "      <td>55.000000</td>\n",
       "      <td>119964.605000</td>\n",
       "      <td>799.120000</td>\n",
       "      <td>3.091408e+03</td>\n",
       "      <td>1.000000</td>\n",
       "      <td>74261.250000</td>\n",
       "    </tr>\n",
       "    <tr>\n",
       "      <th>max</th>\n",
       "      <td>65.000000</td>\n",
       "      <td>621497.820000</td>\n",
       "      <td>896.260000</td>\n",
       "      <td>1.777460e+06</td>\n",
       "      <td>1.000000</td>\n",
       "      <td>481907.320000</td>\n",
       "    </tr>\n",
       "  </tbody>\n",
       "</table>\n",
       "</div>"
      ],
      "text/plain": [
       "                Age  Loan Amount Request (USD)  Credit Score  Property Age  \\\n",
       "count  30000.000000               30000.000000  28297.000000  2.515000e+04   \n",
       "mean      40.092300               88826.333855    739.885381  2.631119e+03   \n",
       "std       16.045129               59536.949605     72.163846  1.132268e+04   \n",
       "min       18.000000                6048.240000    580.000000  3.777000e+02   \n",
       "25%       25.000000               41177.755000    681.880000  1.650450e+03   \n",
       "50%       40.000000               75128.075000    739.820000  2.223250e+03   \n",
       "75%       55.000000              119964.605000    799.120000  3.091408e+03   \n",
       "max       65.000000              621497.820000    896.260000  1.777460e+06   \n",
       "\n",
       "       Co-Applicant  Loan Sanction Amount (USD)  \n",
       "count  30000.000000                29660.000000  \n",
       "mean      -4.743867                47649.342208  \n",
       "std       74.614593                48221.146686  \n",
       "min     -999.000000                 -999.000000  \n",
       "25%        1.000000                    0.000000  \n",
       "50%        1.000000                35209.395000  \n",
       "75%        1.000000                74261.250000  \n",
       "max        1.000000               481907.320000  "
      ]
     },
     "execution_count": 51,
     "metadata": {},
     "output_type": "execute_result"
    }
   ],
   "source": [
    "data.describe()"
   ]
  },
  {
   "cell_type": "code",
   "execution_count": 52,
   "id": "b2cdd647",
   "metadata": {},
   "outputs": [],
   "source": [
    "indexes = data[data['Loan Sanction Amount (USD)'].isna()].index\n",
    "data.drop(index=indexes, axis=0, inplace=True)\n",
    "\n",
    "indexes = data[data['Loan Sanction Amount (USD)'] < 0].index\n",
    "data.loc[indexes,'Loan Sanction Amount (USD)'] = 0"
   ]
  },
  {
   "cell_type": "code",
   "execution_count": 53,
   "id": "f097032c",
   "metadata": {},
   "outputs": [],
   "source": [
    "quantitative = data.select_dtypes(include = [\"int64\",\"float64\"]).keys()\n",
    "categorical = data.select_dtypes(include = [\"object\"]).keys()"
   ]
  },
  {
   "cell_type": "code",
   "execution_count": 54,
   "id": "2b5554d6",
   "metadata": {},
   "outputs": [],
   "source": [
    "from sklearn.impute import SimpleImputer\n",
    "\n",
    "si = SimpleImputer(strategy='mean')\n",
    "data[quantitative] = si.fit_transform(data[quantitative])"
   ]
  },
  {
   "cell_type": "code",
   "execution_count": 55,
   "id": "c2f1dc95",
   "metadata": {},
   "outputs": [],
   "source": [
    "y = data[\"Loan Sanction Amount (USD)\"]"
   ]
  },
  {
   "cell_type": "code",
   "execution_count": 56,
   "id": "77bc8636",
   "metadata": {},
   "outputs": [
    {
     "data": {
      "text/plain": [
       "Loan Sanction Amount (USD)\n",
       "0.00         8203\n",
       "28937.45        3\n",
       "26047.92        2\n",
       "105047.72       2\n",
       "15270.22        2\n",
       "             ... \n",
       "164339.54       1\n",
       "24156.78        1\n",
       "60149.10        1\n",
       "14002.40        1\n",
       "37469.98        1\n",
       "Name: count, Length: 21449, dtype: int64"
      ]
     },
     "execution_count": 56,
     "metadata": {},
     "output_type": "execute_result"
    }
   ],
   "source": [
    "y.value_counts()"
   ]
  },
  {
   "cell_type": "code",
   "execution_count": 57,
   "id": "075b32f9",
   "metadata": {},
   "outputs": [
    {
     "data": {
      "text/plain": [
       "(array([1.7303e+04, 7.7950e+03, 3.2110e+03, 9.8900e+02, 3.0000e+02,\n",
       "        5.2000e+01, 8.0000e+00, 0.0000e+00, 1.0000e+00, 1.0000e+00]),\n",
       " array([     0.   ,  48190.732,  96381.464, 144572.196, 192762.928,\n",
       "        240953.66 , 289144.392, 337335.124, 385525.856, 433716.588,\n",
       "        481907.32 ]),\n",
       " <BarContainer object of 10 artists>)"
      ]
     },
     "execution_count": 57,
     "metadata": {},
     "output_type": "execute_result"
    },
    {
     "data": {
      "image/png": "[encoded data removed]",
      "text/plain": [
       "<Figure size 640x480 with 1 Axes>"
      ]
     },
     "metadata": {},
     "output_type": "display_data"
    }
   ],
   "source": [
    "import matplotlib.pyplot as plt\n",
    "plt.hist(y)"
   ]
  },
  {
   "cell_type": "code",
   "execution_count": 58,
   "id": "ed05613b",
   "metadata": {},
   "outputs": [],
   "source": [
    "X_nocat = data[quantitative].drop(\"Loan Sanction Amount (USD)\", axis=1)\n",
    "X_cat = data[categorical]"
   ]
  },
  {
   "cell_type": "code",
   "execution_count": 59,
   "id": "b6cd8903",
   "metadata": {},
   "outputs": [
    {
     "data": {
      "application/vnd.microsoft.datawrangler.viewer.v0+json": {
       "columns": [
        {
         "name": "index",
         "rawType": "int64",
         "type": "integer"
        },
        {
         "name": "Gender",
         "rawType": "object",
         "type": "unknown"
        },
        {
         "name": "Profession",
         "rawType": "object",
         "type": "string"
        },
        {
         "name": "Location",
         "rawType": "object",
         "type": "string"
        }
       ],
       "conversionMethod": "pd.DataFrame",
       "ref": "87658813-4b94-4c36-8ede-27eef800dc6d",
       "rows": [
        [
         "0",
         "F",
         "Working",
         "Semi-Urban"
        ],
        [
         "1",
         "M",
         "Working",
         "Semi-Urban"
        ],
        [
         "2",
         "F",
         "Pensioner",
         "Semi-Urban"
        ],
        [
         "3",
         "F",
         "Pensioner",
         "Rural"
        ],
        [
         "4",
         "F",
         "Working",
         "Semi-Urban"
        ],
        [
         "5",
         "F",
         "State servant",
         "Rural"
        ],
        [
         "6",
         "M",
         "Working",
         "Semi-Urban"
        ],
        [
         "7",
         "F",
         "State servant",
         "Semi-Urban"
        ],
        [
         "8",
         "F",
         "Working",
         "Rural"
        ],
        [
         "9",
         "M",
         "Working",
         "Rural"
        ],
        [
         "10",
         "M",
         "State servant",
         "Semi-Urban"
        ],
        [
         "11",
         "F",
         "Commercial associate",
         "Semi-Urban"
        ],
        [
         "12",
         "F",
         "Working",
         "Semi-Urban"
        ],
        [
         "13",
         "F",
         "Working",
         "Rural"
        ],
        [
         "14",
         "M",
         "Working",
         "Semi-Urban"
        ],
        [
         "15",
         "F",
         "Working",
         "Rural"
        ],
        [
         "16",
         "F",
         "Working",
         "Semi-Urban"
        ],
        [
         "17",
         "M",
         "Working",
         "Rural"
        ],
        [
         "18",
         "M",
         "Pensioner",
         "Semi-Urban"
        ],
        [
         "19",
         "F",
         "Working",
         "Rural"
        ],
        [
         "20",
         "F",
         "Working",
         "Rural"
        ],
        [
         "21",
         "F",
         "Working",
         "Rural"
        ],
        [
         "22",
         "F",
         "Working",
         "Semi-Urban"
        ],
        [
         "23",
         "F",
         "Working",
         "Rural"
        ],
        [
         "24",
         "F",
         "Working",
         "Semi-Urban"
        ],
        [
         "25",
         "F",
         "Pensioner",
         "Semi-Urban"
        ],
        [
         "26",
         "M",
         "State servant",
         "Rural"
        ],
        [
         "27",
         "F",
         "Commercial associate",
         "Semi-Urban"
        ],
        [
         "28",
         "F",
         "State servant",
         "Rural"
        ],
        [
         "29",
         "M",
         "Working",
         "Urban"
        ],
        [
         "30",
         "F",
         "Working",
         "Semi-Urban"
        ],
        [
         "31",
         "F",
         "Working",
         "Semi-Urban"
        ],
        [
         "32",
         "F",
         "Working",
         "Semi-Urban"
        ],
        [
         "33",
         "F",
         "Working",
         "Semi-Urban"
        ],
        [
         "34",
         "M",
         "State servant",
         "Semi-Urban"
        ],
        [
         "35",
         "F",
         "Working",
         "Semi-Urban"
        ],
        [
         "36",
         "F",
         "Working",
         "Rural"
        ],
        [
         "37",
         "F",
         "Working",
         "Semi-Urban"
        ],
        [
         "38",
         "M",
         "Working",
         "Semi-Urban"
        ],
        [
         "39",
         "M",
         "Commercial associate",
         "Urban"
        ],
        [
         "40",
         "M",
         "Working",
         "Semi-Urban"
        ],
        [
         "41",
         "F",
         "Working",
         "Semi-Urban"
        ],
        [
         "42",
         "M",
         "Commercial associate",
         "Semi-Urban"
        ],
        [
         "43",
         "M",
         "Working",
         "Semi-Urban"
        ],
        [
         "44",
         "F",
         "Commercial associate",
         "Rural"
        ],
        [
         "45",
         "F",
         "Working",
         "Semi-Urban"
        ],
        [
         "46",
         "M",
         "Working",
         "Semi-Urban"
        ],
        [
         "47",
         "F",
         "Working",
         "Semi-Urban"
        ],
        [
         "48",
         "M",
         "Working",
         "Semi-Urban"
        ],
        [
         "49",
         "M",
         "Commercial associate",
         "Semi-Urban"
        ]
       ],
       "shape": {
        "columns": 3,
        "rows": 29660
       }
      },
      "text/html": [
       "<div>\n",
       "<style scoped>\n",
       "    .dataframe tbody tr th:only-of-type {\n",
       "        vertical-align: middle;\n",
       "    }\n",
       "\n",
       "    .dataframe tbody tr th {\n",
       "        vertical-align: top;\n",
       "    }\n",
       "\n",
       "    .dataframe thead th {\n",
       "        text-align: right;\n",
       "    }\n",
       "</style>\n",
       "<table border=\"1\" class=\"dataframe\">\n",
       "  <thead>\n",
       "    <tr style=\"text-align: right;\">\n",
       "      <th></th>\n",
       "      <th>Gender</th>\n",
       "      <th>Profession</th>\n",
       "      <th>Location</th>\n",
       "    </tr>\n",
       "  </thead>\n",
       "  <tbody>\n",
       "    <tr>\n",
       "      <th>0</th>\n",
       "      <td>F</td>\n",
       "      <td>Working</td>\n",
       "      <td>Semi-Urban</td>\n",
       "    </tr>\n",
       "    <tr>\n",
       "      <th>1</th>\n",
       "      <td>M</td>\n",
       "      <td>Working</td>\n",
       "      <td>Semi-Urban</td>\n",
       "    </tr>\n",
       "    <tr>\n",
       "      <th>2</th>\n",
       "      <td>F</td>\n",
       "      <td>Pensioner</td>\n",
       "      <td>Semi-Urban</td>\n",
       "    </tr>\n",
       "    <tr>\n",
       "      <th>3</th>\n",
       "      <td>F</td>\n",
       "      <td>Pensioner</td>\n",
       "      <td>Rural</td>\n",
       "    </tr>\n",
       "    <tr>\n",
       "      <th>4</th>\n",
       "      <td>F</td>\n",
       "      <td>Working</td>\n",
       "      <td>Semi-Urban</td>\n",
       "    </tr>\n",
       "    <tr>\n",
       "      <th>...</th>\n",
       "      <td>...</td>\n",
       "      <td>...</td>\n",
       "      <td>...</td>\n",
       "    </tr>\n",
       "    <tr>\n",
       "      <th>29995</th>\n",
       "      <td>M</td>\n",
       "      <td>Commercial associate</td>\n",
       "      <td>Urban</td>\n",
       "    </tr>\n",
       "    <tr>\n",
       "      <th>29996</th>\n",
       "      <td>M</td>\n",
       "      <td>Working</td>\n",
       "      <td>Semi-Urban</td>\n",
       "    </tr>\n",
       "    <tr>\n",
       "      <th>29997</th>\n",
       "      <td>F</td>\n",
       "      <td>Working</td>\n",
       "      <td>Urban</td>\n",
       "    </tr>\n",
       "    <tr>\n",
       "      <th>29998</th>\n",
       "      <td>M</td>\n",
       "      <td>Working</td>\n",
       "      <td>Semi-Urban</td>\n",
       "    </tr>\n",
       "    <tr>\n",
       "      <th>29999</th>\n",
       "      <td>F</td>\n",
       "      <td>Pensioner</td>\n",
       "      <td>Rural</td>\n",
       "    </tr>\n",
       "  </tbody>\n",
       "</table>\n",
       "<p>29660 rows × 3 columns</p>\n",
       "</div>"
      ],
      "text/plain": [
       "      Gender            Profession    Location\n",
       "0          F               Working  Semi-Urban\n",
       "1          M               Working  Semi-Urban\n",
       "2          F             Pensioner  Semi-Urban\n",
       "3          F             Pensioner       Rural\n",
       "4          F               Working  Semi-Urban\n",
       "...      ...                   ...         ...\n",
       "29995      M  Commercial associate       Urban\n",
       "29996      M               Working  Semi-Urban\n",
       "29997      F               Working       Urban\n",
       "29998      M               Working  Semi-Urban\n",
       "29999      F             Pensioner       Rural\n",
       "\n",
       "[29660 rows x 3 columns]"
      ]
     },
     "execution_count": 59,
     "metadata": {},
     "output_type": "execute_result"
    }
   ],
   "source": [
    "X_cat"
   ]
  },
  {
   "cell_type": "code",
   "execution_count": 60,
   "id": "fc4b790f",
   "metadata": {},
   "outputs": [
    {
     "data": {
      "application/vnd.microsoft.datawrangler.viewer.v0+json": {
       "columns": [
        {
         "name": "index",
         "rawType": "int64",
         "type": "integer"
        },
        {
         "name": "Age",
         "rawType": "float64",
         "type": "float"
        },
        {
         "name": "Loan Amount Request (USD)",
         "rawType": "float64",
         "type": "float"
        },
        {
         "name": "Credit Score",
         "rawType": "float64",
         "type": "float"
        },
        {
         "name": "Property Age",
         "rawType": "float64",
         "type": "float"
        },
        {
         "name": "Co-Applicant",
         "rawType": "float64",
         "type": "float"
        }
       ],
       "conversionMethod": "pd.DataFrame",
       "ref": "6652e403-3ada-4c2a-9a2f-10fb13b1e52e",
       "rows": [
        [
         "0",
         "56.0",
         "72809.58",
         "809.44",
         "1933.05",
         "1.0"
        ],
        [
         "1",
         "32.0",
         "46837.47",
         "780.4",
         "4952.91",
         "1.0"
        ],
        [
         "2",
         "65.0",
         "45593.04",
         "833.15",
         "988.19",
         "0.0"
        ],
        [
         "3",
         "65.0",
         "80057.92",
         "832.7",
         "2631.317284738956",
         "1.0"
        ],
        [
         "4",
         "31.0",
         "113858.89",
         "745.55",
         "2614.77",
         "1.0"
        ],
        [
         "5",
         "60.0",
         "34434.72",
         "684.12",
         "1234.92",
         "1.0"
        ],
        [
         "6",
         "43.0",
         "152561.34",
         "637.29",
         "2361.56",
         "1.0"
        ],
        [
         "7",
         "45.0",
         "240311.77",
         "812.26",
         "2631.317284738956",
         "1.0"
        ],
        [
         "8",
         "38.0",
         "35141.99",
         "705.29",
         "1296.07",
         "1.0"
        ],
        [
         "9",
         "18.0",
         "42091.29",
         "613.24",
         "1546.17",
         "1.0"
        ],
        [
         "10",
         "18.0",
         "25765.72",
         "652.41",
         "2416.86",
         "1.0"
        ],
        [
         "11",
         "39.0",
         "20879.96",
         "646.21",
         "2719.74",
         "0.0"
        ],
        [
         "12",
         "48.0",
         "96080.6",
         "764.11",
         "777.25",
         "1.0"
        ],
        [
         "13",
         "43.0",
         "48894.06",
         "726.28",
         "997.25",
         "1.0"
        ],
        [
         "14",
         "61.0",
         "72448.95",
         "781.51",
         "1664.52",
         "1.0"
        ],
        [
         "15",
         "54.0",
         "116487.58",
         "749.33",
         "3716.54",
         "1.0"
        ],
        [
         "16",
         "61.0",
         "70815.01",
         "779.55",
         "2077.42",
         "1.0"
        ],
        [
         "17",
         "64.0",
         "89489.99",
         "803.04",
         "2346.88",
         "1.0"
        ],
        [
         "18",
         "65.0",
         "66567.35",
         "862.33",
         "1523.03",
         "0.0"
        ],
        [
         "19",
         "41.0",
         "112910.57",
         "722.74",
         "1837.17",
         "1.0"
        ],
        [
         "20",
         "32.0",
         "93103.63",
         "671.65",
         "1537.82",
         "0.0"
        ],
        [
         "21",
         "19.0",
         "57810.08",
         "787.74",
         "2889.94",
         "1.0"
        ],
        [
         "22",
         "44.0",
         "12402.54",
         "804.2",
         "1266.06",
         "1.0"
        ],
        [
         "23",
         "24.0",
         "120525.64",
         "721.27",
         "2538.85",
         "1.0"
        ],
        [
         "24",
         "55.0",
         "115851.35",
         "712.05",
         "2497.4",
         "0.0"
        ],
        [
         "25",
         "63.0",
         "38101.51",
         "860.88",
         "700.07",
         "1.0"
        ],
        [
         "26",
         "18.0",
         "95922.71",
         "620.0",
         "4028.01",
         "0.0"
        ],
        [
         "27",
         "18.0",
         "99492.44",
         "733.68",
         "5350.94",
         "0.0"
        ],
        [
         "28",
         "23.0",
         "168825.55",
         "637.03",
         "4141.15",
         "0.0"
        ],
        [
         "29",
         "29.0",
         "234770.77",
         "767.85",
         "3880.49",
         "1.0"
        ],
        [
         "30",
         "32.0",
         "30195.97",
         "739.853474812433",
         "2478.54",
         "1.0"
        ],
        [
         "31",
         "18.0",
         "85927.28",
         "688.21",
         "2631.317284738956",
         "1.0"
        ],
        [
         "32",
         "28.0",
         "17503.0",
         "855.97",
         "2474.33",
         "1.0"
        ],
        [
         "33",
         "18.0",
         "35595.86",
         "706.08",
         "1220.16",
         "1.0"
        ],
        [
         "34",
         "18.0",
         "91850.54",
         "834.62",
         "1671.02",
         "1.0"
        ],
        [
         "35",
         "49.0",
         "43299.94",
         "651.45",
         "1974.82",
         "1.0"
        ],
        [
         "36",
         "61.0",
         "186715.38",
         "748.38",
         "5302.28",
         "1.0"
        ],
        [
         "37",
         "18.0",
         "18386.57",
         "672.32",
         "2368.34",
         "1.0"
        ],
        [
         "38",
         "28.0",
         "39290.22",
         "630.73",
         "2067.66",
         "1.0"
        ],
        [
         "39",
         "18.0",
         "121963.5",
         "721.18",
         "7885.56",
         "1.0"
        ],
        [
         "40",
         "30.0",
         "65332.24",
         "707.3",
         "4096.07",
         "1.0"
        ],
        [
         "41",
         "54.0",
         "133531.81",
         "861.21",
         "5330.72",
         "1.0"
        ],
        [
         "42",
         "37.0",
         "85145.49",
         "855.18",
         "2680.38",
         "1.0"
        ],
        [
         "43",
         "51.0",
         "40679.95",
         "799.57",
         "3384.91",
         "1.0"
        ],
        [
         "44",
         "18.0",
         "41837.3",
         "747.21",
         "1694.53",
         "1.0"
        ],
        [
         "45",
         "27.0",
         "123034.46",
         "715.43",
         "1960.17",
         "0.0"
        ],
        [
         "46",
         "54.0",
         "55863.31",
         "797.47",
         "1871.92",
         "1.0"
        ],
        [
         "47",
         "44.0",
         "75574.36",
         "755.48",
         "1761.15",
         "1.0"
        ],
        [
         "48",
         "64.0",
         "171270.39",
         "733.67",
         "2478.3",
         "1.0"
        ],
        [
         "49",
         "59.0",
         "155502.39",
         "855.39",
         "2631.317284738956",
         "1.0"
        ]
       ],
       "shape": {
        "columns": 5,
        "rows": 29660
       }
      },
      "text/html": [
       "<div>\n",
       "<style scoped>\n",
       "    .dataframe tbody tr th:only-of-type {\n",
       "        vertical-align: middle;\n",
       "    }\n",
       "\n",
       "    .dataframe tbody tr th {\n",
       "        vertical-align: top;\n",
       "    }\n",
       "\n",
       "    .dataframe thead th {\n",
       "        text-align: right;\n",
       "    }\n",
       "</style>\n",
       "<table border=\"1\" class=\"dataframe\">\n",
       "  <thead>\n",
       "    <tr style=\"text-align: right;\">\n",
       "      <th></th>\n",
       "      <th>Age</th>\n",
       "      <th>Loan Amount Request (USD)</th>\n",
       "      <th>Credit Score</th>\n",
       "      <th>Property Age</th>\n",
       "      <th>Co-Applicant</th>\n",
       "    </tr>\n",
       "  </thead>\n",
       "  <tbody>\n",
       "    <tr>\n",
       "      <th>0</th>\n",
       "      <td>56.0</td>\n",
       "      <td>72809.58</td>\n",
       "      <td>809.440000</td>\n",
       "      <td>1933.050000</td>\n",
       "      <td>1.0</td>\n",
       "    </tr>\n",
       "    <tr>\n",
       "      <th>1</th>\n",
       "      <td>32.0</td>\n",
       "      <td>46837.47</td>\n",
       "      <td>780.400000</td>\n",
       "      <td>4952.910000</td>\n",
       "      <td>1.0</td>\n",
       "    </tr>\n",
       "    <tr>\n",
       "      <th>2</th>\n",
       "      <td>65.0</td>\n",
       "      <td>45593.04</td>\n",
       "      <td>833.150000</td>\n",
       "      <td>988.190000</td>\n",
       "      <td>0.0</td>\n",
       "    </tr>\n",
       "    <tr>\n",
       "      <th>3</th>\n",
       "      <td>65.0</td>\n",
       "      <td>80057.92</td>\n",
       "      <td>832.700000</td>\n",
       "      <td>2631.317285</td>\n",
       "      <td>1.0</td>\n",
       "    </tr>\n",
       "    <tr>\n",
       "      <th>4</th>\n",
       "      <td>31.0</td>\n",
       "      <td>113858.89</td>\n",
       "      <td>745.550000</td>\n",
       "      <td>2614.770000</td>\n",
       "      <td>1.0</td>\n",
       "    </tr>\n",
       "    <tr>\n",
       "      <th>...</th>\n",
       "      <td>...</td>\n",
       "      <td>...</td>\n",
       "      <td>...</td>\n",
       "      <td>...</td>\n",
       "      <td>...</td>\n",
       "    </tr>\n",
       "    <tr>\n",
       "      <th>29995</th>\n",
       "      <td>38.0</td>\n",
       "      <td>76657.90</td>\n",
       "      <td>869.610000</td>\n",
       "      <td>4969.410000</td>\n",
       "      <td>1.0</td>\n",
       "    </tr>\n",
       "    <tr>\n",
       "      <th>29996</th>\n",
       "      <td>20.0</td>\n",
       "      <td>66595.14</td>\n",
       "      <td>729.410000</td>\n",
       "      <td>1606.880000</td>\n",
       "      <td>1.0</td>\n",
       "    </tr>\n",
       "    <tr>\n",
       "      <th>29997</th>\n",
       "      <td>49.0</td>\n",
       "      <td>81410.08</td>\n",
       "      <td>739.853475</td>\n",
       "      <td>2631.317285</td>\n",
       "      <td>1.0</td>\n",
       "    </tr>\n",
       "    <tr>\n",
       "      <th>29998</th>\n",
       "      <td>38.0</td>\n",
       "      <td>142524.10</td>\n",
       "      <td>677.270000</td>\n",
       "      <td>2417.710000</td>\n",
       "      <td>1.0</td>\n",
       "    </tr>\n",
       "    <tr>\n",
       "      <th>29999</th>\n",
       "      <td>63.0</td>\n",
       "      <td>156290.54</td>\n",
       "      <td>815.440000</td>\n",
       "      <td>3068.240000</td>\n",
       "      <td>1.0</td>\n",
       "    </tr>\n",
       "  </tbody>\n",
       "</table>\n",
       "<p>29660 rows × 5 columns</p>\n",
       "</div>"
      ],
      "text/plain": [
       "        Age  Loan Amount Request (USD)  Credit Score  Property Age  \\\n",
       "0      56.0                   72809.58    809.440000   1933.050000   \n",
       "1      32.0                   46837.47    780.400000   4952.910000   \n",
       "2      65.0                   45593.04    833.150000    988.190000   \n",
       "3      65.0                   80057.92    832.700000   2631.317285   \n",
       "4      31.0                  113858.89    745.550000   2614.770000   \n",
       "...     ...                        ...           ...           ...   \n",
       "29995  38.0                   76657.90    869.610000   4969.410000   \n",
       "29996  20.0                   66595.14    729.410000   1606.880000   \n",
       "29997  49.0                   81410.08    739.853475   2631.317285   \n",
       "29998  38.0                  142524.10    677.270000   2417.710000   \n",
       "29999  63.0                  156290.54    815.440000   3068.240000   \n",
       "\n",
       "       Co-Applicant  \n",
       "0               1.0  \n",
       "1               1.0  \n",
       "2               0.0  \n",
       "3               1.0  \n",
       "4               1.0  \n",
       "...             ...  \n",
       "29995           1.0  \n",
       "29996           1.0  \n",
       "29997           1.0  \n",
       "29998           1.0  \n",
       "29999           1.0  \n",
       "\n",
       "[29660 rows x 5 columns]"
      ]
     },
     "execution_count": 60,
     "metadata": {},
     "output_type": "execute_result"
    }
   ],
   "source": [
    "X_nocat"
   ]
  },
  {
   "cell_type": "code",
   "execution_count": 61,
   "id": "7cce8a75",
   "metadata": {},
   "outputs": [
    {
     "data": {
      "text/plain": [
       "(29660, 5)"
      ]
     },
     "execution_count": 61,
     "metadata": {},
     "output_type": "execute_result"
    }
   ],
   "source": [
    "X_nocat.shape"
   ]
  },
  {
   "cell_type": "code",
   "execution_count": 62,
   "id": "91ea96b7",
   "metadata": {},
   "outputs": [
    {
     "data": {
      "text/plain": [
       "(29660,)"
      ]
     },
     "execution_count": 62,
     "metadata": {},
     "output_type": "execute_result"
    }
   ],
   "source": [
    "y.shape"
   ]
  },
  {
   "cell_type": "code",
   "execution_count": 63,
   "id": "2146d1e9",
   "metadata": {},
   "outputs": [],
   "source": [
    "from sklearn.preprocessing import StandardScaler\n",
    "\n",
    "scaler = StandardScaler()\n",
    "X_scaled = scaler.fit_transform(X_nocat)"
   ]
  },
  {
   "cell_type": "code",
   "execution_count": 64,
   "id": "d53affbe",
   "metadata": {},
   "outputs": [
    {
     "name": "stdout",
     "output_type": "stream",
     "text": [
      "23728\n",
      "5932\n"
     ]
    }
   ],
   "source": [
    "from sklearn.model_selection import train_test_split\n",
    "\n",
    "X_train, X_test, y_train, y_test = train_test_split(X_scaled, y, test_size=0.2, random_state=11)\n",
    "\n",
    "print(len(X_train))\n",
    "print(len(X_test))"
   ]
  },
  {
   "cell_type": "code",
   "execution_count": 65,
   "id": "220a066e",
   "metadata": {},
   "outputs": [
    {
     "data": {
      "text/html": [
       "<style>#sk-container-id-2 {\n",
       "  /* Definition of color scheme common for light and dark mode */\n",
       "  --sklearn-color-text: #000;\n",
       "  --sklearn-color-text-muted: #666;\n",
       "  --sklearn-color-line: gray;\n",
       "  /* Definition of color scheme for unfitted estimators */\n",
       "  --sklearn-color-unfitted-level-0: #fff5e6;\n",
       "  --sklearn-color-unfitted-level-1: #f6e4d2;\n",
       "  --sklearn-color-unfitted-level-2: #ffe0b3;\n",
       "  --sklearn-color-unfitted-level-3: chocolate;\n",
       "  /* Definition of color scheme for fitted estimators */\n",
       "  --sklearn-color-fitted-level-0: #f0f8ff;\n",
       "  --sklearn-color-fitted-level-1: #d4ebff;\n",
       "  --sklearn-color-fitted-level-2: #b3dbfd;\n",
       "  --sklearn-color-fitted-level-3: cornflowerblue;\n",
       "\n",
       "  /* Specific color for light theme */\n",
       "  --sklearn-color-text-on-default-background: var(--sg-text-color, var(--theme-code-foreground, var(--jp-content-font-color1, black)));\n",
       "  --sklearn-color-background: var(--sg-background-color, var(--theme-background, var(--jp-layout-color0, white)));\n",
       "  --sklearn-color-border-box: var(--sg-text-color, var(--theme-code-foreground, var(--jp-content-font-color1, black)));\n",
       "  --sklearn-color-icon: #696969;\n",
       "\n",
       "  @media (prefers-color-scheme: dark) {\n",
       "    /* Redefinition of color scheme for dark theme */\n",
       "    --sklearn-color-text-on-default-background: var(--sg-text-color, var(--theme-code-foreground, var(--jp-content-font-color1, white)));\n",
       "    --sklearn-color-background: var(--sg-background-color, var(--theme-background, var(--jp-layout-color0, #111)));\n",
       "    --sklearn-color-border-box: var(--sg-text-color, var(--theme-code-foreground, var(--jp-content-font-color1, white)));\n",
       "    --sklearn-color-icon: #878787;\n",
       "  }\n",
       "}\n",
       "\n",
       "#sk-container-id-2 {\n",
       "  color: var(--sklearn-color-text);\n",
       "}\n",
       "\n",
       "#sk-container-id-2 pre {\n",
       "  padding: 0;\n",
       "}\n",
       "\n",
       "#sk-container-id-2 input.sk-hidden--visually {\n",
       "  border: 0;\n",
       "  clip: rect(1px 1px 1px 1px);\n",
       "  clip: rect(1px, 1px, 1px, 1px);\n",
       "  height: 1px;\n",
       "  margin: -1px;\n",
       "  overflow: hidden;\n",
       "  padding: 0;\n",
       "  position: absolute;\n",
       "  width: 1px;\n",
       "}\n",
       "\n",
       "#sk-container-id-2 div.sk-dashed-wrapped {\n",
       "  border: 1px dashed var(--sklearn-color-line);\n",
       "  margin: 0 0.4em 0.5em 0.4em;\n",
       "  box-sizing: border-box;\n",
       "  padding-bottom: 0.4em;\n",
       "  background-color: var(--sklearn-color-background);\n",
       "}\n",
       "\n",
       "#sk-container-id-2 div.sk-container {\n",
       "  /* jupyter's `normalize.less` sets `[hidden] { display: none; }`\n",
       "     but bootstrap.min.css set `[hidden] { display: none !important; }`\n",
       "     so we also need the `!important` here to be able to override the\n",
       "     default hidden behavior on the sphinx rendered scikit-learn.org.\n",
       "     See: https://github.com/scikit-learn/scikit-learn/issues/21755 */\n",
       "  display: inline-block !important;\n",
       "  position: relative;\n",
       "}\n",
       "\n",
       "#sk-container-id-2 div.sk-text-repr-fallback {\n",
       "  display: none;\n",
       "}\n",
       "\n",
       "div.sk-parallel-item,\n",
       "div.sk-serial,\n",
       "div.sk-item {\n",
       "  /* draw centered vertical line to link estimators */\n",
       "  background-image: linear-gradient(var(--sklearn-color-text-on-default-background), var(--sklearn-color-text-on-default-background));\n",
       "  background-size: 2px 100%;\n",
       "  background-repeat: no-repeat;\n",
       "  background-position: center center;\n",
       "}\n",
       "\n",
       "/* Parallel-specific style estimator block */\n",
       "\n",
       "#sk-container-id-2 div.sk-parallel-item::after {\n",
       "  content: \"\";\n",
       "  width: 100%;\n",
       "  border-bottom: 2px solid var(--sklearn-color-text-on-default-background);\n",
       "  flex-grow: 1;\n",
       "}\n",
       "\n",
       "#sk-container-id-2 div.sk-parallel {\n",
       "  display: flex;\n",
       "  align-items: stretch;\n",
       "  justify-content: center;\n",
       "  background-color: var(--sklearn-color-background);\n",
       "  position: relative;\n",
       "}\n",
       "\n",
       "#sk-container-id-2 div.sk-parallel-item {\n",
       "  display: flex;\n",
       "  flex-direction: column;\n",
       "}\n",
       "\n",
       "#sk-container-id-2 div.sk-parallel-item:first-child::after {\n",
       "  align-self: flex-end;\n",
       "  width: 50%;\n",
       "}\n",
       "\n",
       "#sk-container-id-2 div.sk-parallel-item:last-child::after {\n",
       "  align-self: flex-start;\n",
       "  width: 50%;\n",
       "}\n",
       "\n",
       "#sk-container-id-2 div.sk-parallel-item:only-child::after {\n",
       "  width: 0;\n",
       "}\n",
       "\n",
       "/* Serial-specific style estimator block */\n",
       "\n",
       "#sk-container-id-2 div.sk-serial {\n",
       "  display: flex;\n",
       "  flex-direction: column;\n",
       "  align-items: center;\n",
       "  background-color: var(--sklearn-color-background);\n",
       "  padding-right: 1em;\n",
       "  padding-left: 1em;\n",
       "}\n",
       "\n",
       "\n",
       "/* Toggleable style: style used for estimator/Pipeline/ColumnTransformer box that is\n",
       "clickable and can be expanded/collapsed.\n",
       "- Pipeline and ColumnTransformer use this feature and define the default style\n",
       "- Estimators will overwrite some part of the style using the `sk-estimator` class\n",
       "*/\n",
       "\n",
       "/* Pipeline and ColumnTransformer style (default) */\n",
       "\n",
       "#sk-container-id-2 div.sk-toggleable {\n",
       "  /* Default theme specific background. It is overwritten whether we have a\n",
       "  specific estimator or a Pipeline/ColumnTransformer */\n",
       "  background-color: var(--sklearn-color-background);\n",
       "}\n",
       "\n",
       "/* Toggleable label */\n",
       "#sk-container-id-2 label.sk-toggleable__label {\n",
       "  cursor: pointer;\n",
       "  display: flex;\n",
       "  width: 100%;\n",
       "  margin-bottom: 0;\n",
       "  padding: 0.5em;\n",
       "  box-sizing: border-box;\n",
       "  text-align: center;\n",
       "  align-items: start;\n",
       "  justify-content: space-between;\n",
       "  gap: 0.5em;\n",
       "}\n",
       "\n",
       "#sk-container-id-2 label.sk-toggleable__label .caption {\n",
       "  font-size: 0.6rem;\n",
       "  font-weight: lighter;\n",
       "  color: var(--sklearn-color-text-muted);\n",
       "}\n",
       "\n",
       "#sk-container-id-2 label.sk-toggleable__label-arrow:before {\n",
       "  /* Arrow on the left of the label */\n",
       "  content: \"▸\";\n",
       "  float: left;\n",
       "  margin-right: 0.25em;\n",
       "  color: var(--sklearn-color-icon);\n",
       "}\n",
       "\n",
       "#sk-container-id-2 label.sk-toggleable__label-arrow:hover:before {\n",
       "  color: var(--sklearn-color-text);\n",
       "}\n",
       "\n",
       "/* Toggleable content - dropdown */\n",
       "\n",
       "#sk-container-id-2 div.sk-toggleable__content {\n",
       "  max-height: 0;\n",
       "  max-width: 0;\n",
       "  overflow: hidden;\n",
       "  text-align: left;\n",
       "  /* unfitted */\n",
       "  background-color: var(--sklearn-color-unfitted-level-0);\n",
       "}\n",
       "\n",
       "#sk-container-id-2 div.sk-toggleable__content.fitted {\n",
       "  /* fitted */\n",
       "  background-color: var(--sklearn-color-fitted-level-0);\n",
       "}\n",
       "\n",
       "#sk-container-id-2 div.sk-toggleable__content pre {\n",
       "  margin: 0.2em;\n",
       "  border-radius: 0.25em;\n",
       "  color: var(--sklearn-color-text);\n",
       "  /* unfitted */\n",
       "  background-color: var(--sklearn-color-unfitted-level-0);\n",
       "}\n",
       "\n",
       "#sk-container-id-2 div.sk-toggleable__content.fitted pre {\n",
       "  /* unfitted */\n",
       "  background-color: var(--sklearn-color-fitted-level-0);\n",
       "}\n",
       "\n",
       "#sk-container-id-2 input.sk-toggleable__control:checked~div.sk-toggleable__content {\n",
       "  /* Expand drop-down */\n",
       "  max-height: 200px;\n",
       "  max-width: 100%;\n",
       "  overflow: auto;\n",
       "}\n",
       "\n",
       "#sk-container-id-2 input.sk-toggleable__control:checked~label.sk-toggleable__label-arrow:before {\n",
       "  content: \"▾\";\n",
       "}\n",
       "\n",
       "/* Pipeline/ColumnTransformer-specific style */\n",
       "\n",
       "#sk-container-id-2 div.sk-label input.sk-toggleable__control:checked~label.sk-toggleable__label {\n",
       "  color: var(--sklearn-color-text);\n",
       "  background-color: var(--sklearn-color-unfitted-level-2);\n",
       "}\n",
       "\n",
       "#sk-container-id-2 div.sk-label.fitted input.sk-toggleable__control:checked~label.sk-toggleable__label {\n",
       "  background-color: var(--sklearn-color-fitted-level-2);\n",
       "}\n",
       "\n",
       "/* Estimator-specific style */\n",
       "\n",
       "/* Colorize estimator box */\n",
       "#sk-container-id-2 div.sk-estimator input.sk-toggleable__control:checked~label.sk-toggleable__label {\n",
       "  /* unfitted */\n",
       "  background-color: var(--sklearn-color-unfitted-level-2);\n",
       "}\n",
       "\n",
       "#sk-container-id-2 div.sk-estimator.fitted input.sk-toggleable__control:checked~label.sk-toggleable__label {\n",
       "  /* fitted */\n",
       "  background-color: var(--sklearn-color-fitted-level-2);\n",
       "}\n",
       "\n",
       "#sk-container-id-2 div.sk-label label.sk-toggleable__label,\n",
       "#sk-container-id-2 div.sk-label label {\n",
       "  /* The background is the default theme color */\n",
       "  color: var(--sklearn-color-text-on-default-background);\n",
       "}\n",
       "\n",
       "/* On hover, darken the color of the background */\n",
       "#sk-container-id-2 div.sk-label:hover label.sk-toggleable__label {\n",
       "  color: var(--sklearn-color-text);\n",
       "  background-color: var(--sklearn-color-unfitted-level-2);\n",
       "}\n",
       "\n",
       "/* Label box, darken color on hover, fitted */\n",
       "#sk-container-id-2 div.sk-label.fitted:hover label.sk-toggleable__label.fitted {\n",
       "  color: var(--sklearn-color-text);\n",
       "  background-color: var(--sklearn-color-fitted-level-2);\n",
       "}\n",
       "\n",
       "/* Estimator label */\n",
       "\n",
       "#sk-container-id-2 div.sk-label label {\n",
       "  font-family: monospace;\n",
       "  font-weight: bold;\n",
       "  display: inline-block;\n",
       "  line-height: 1.2em;\n",
       "}\n",
       "\n",
       "#sk-container-id-2 div.sk-label-container {\n",
       "  text-align: center;\n",
       "}\n",
       "\n",
       "/* Estimator-specific */\n",
       "#sk-container-id-2 div.sk-estimator {\n",
       "  font-family: monospace;\n",
       "  border: 1px dotted var(--sklearn-color-border-box);\n",
       "  border-radius: 0.25em;\n",
       "  box-sizing: border-box;\n",
       "  margin-bottom: 0.5em;\n",
       "  /* unfitted */\n",
       "  background-color: var(--sklearn-color-unfitted-level-0);\n",
       "}\n",
       "\n",
       "#sk-container-id-2 div.sk-estimator.fitted {\n",
       "  /* fitted */\n",
       "  background-color: var(--sklearn-color-fitted-level-0);\n",
       "}\n",
       "\n",
       "/* on hover */\n",
       "#sk-container-id-2 div.sk-estimator:hover {\n",
       "  /* unfitted */\n",
       "  background-color: var(--sklearn-color-unfitted-level-2);\n",
       "}\n",
       "\n",
       "#sk-container-id-2 div.sk-estimator.fitted:hover {\n",
       "  /* fitted */\n",
       "  background-color: var(--sklearn-color-fitted-level-2);\n",
       "}\n",
       "\n",
       "/* Specification for estimator info (e.g. \"i\" and \"?\") */\n",
       "\n",
       "/* Common style for \"i\" and \"?\" */\n",
       "\n",
       ".sk-estimator-doc-link,\n",
       "a:link.sk-estimator-doc-link,\n",
       "a:visited.sk-estimator-doc-link {\n",
       "  float: right;\n",
       "  font-size: smaller;\n",
       "  line-height: 1em;\n",
       "  font-family: monospace;\n",
       "  background-color: var(--sklearn-color-background);\n",
       "  border-radius: 1em;\n",
       "  height: 1em;\n",
       "  width: 1em;\n",
       "  text-decoration: none !important;\n",
       "  margin-left: 0.5em;\n",
       "  text-align: center;\n",
       "  /* unfitted */\n",
       "  border: var(--sklearn-color-unfitted-level-1) 1pt solid;\n",
       "  color: var(--sklearn-color-unfitted-level-1);\n",
       "}\n",
       "\n",
       ".sk-estimator-doc-link.fitted,\n",
       "a:link.sk-estimator-doc-link.fitted,\n",
       "a:visited.sk-estimator-doc-link.fitted {\n",
       "  /* fitted */\n",
       "  border: var(--sklearn-color-fitted-level-1) 1pt solid;\n",
       "  color: var(--sklearn-color-fitted-level-1);\n",
       "}\n",
       "\n",
       "/* On hover */\n",
       "div.sk-estimator:hover .sk-estimator-doc-link:hover,\n",
       ".sk-estimator-doc-link:hover,\n",
       "div.sk-label-container:hover .sk-estimator-doc-link:hover,\n",
       ".sk-estimator-doc-link:hover {\n",
       "  /* unfitted */\n",
       "  background-color: var(--sklearn-color-unfitted-level-3);\n",
       "  color: var(--sklearn-color-background);\n",
       "  text-decoration: none;\n",
       "}\n",
       "\n",
       "div.sk-estimator.fitted:hover .sk-estimator-doc-link.fitted:hover,\n",
       ".sk-estimator-doc-link.fitted:hover,\n",
       "div.sk-label-container:hover .sk-estimator-doc-link.fitted:hover,\n",
       ".sk-estimator-doc-link.fitted:hover {\n",
       "  /* fitted */\n",
       "  background-color: var(--sklearn-color-fitted-level-3);\n",
       "  color: var(--sklearn-color-background);\n",
       "  text-decoration: none;\n",
       "}\n",
       "\n",
       "/* Span, style for the box shown on hovering the info icon */\n",
       ".sk-estimator-doc-link span {\n",
       "  display: none;\n",
       "  z-index: 9999;\n",
       "  position: relative;\n",
       "  font-weight: normal;\n",
       "  right: .2ex;\n",
       "  padding: .5ex;\n",
       "  margin: .5ex;\n",
       "  width: min-content;\n",
       "  min-width: 20ex;\n",
       "  max-width: 50ex;\n",
       "  color: var(--sklearn-color-text);\n",
       "  box-shadow: 2pt 2pt 4pt #999;\n",
       "  /* unfitted */\n",
       "  background: var(--sklearn-color-unfitted-level-0);\n",
       "  border: .5pt solid var(--sklearn-color-unfitted-level-3);\n",
       "}\n",
       "\n",
       ".sk-estimator-doc-link.fitted span {\n",
       "  /* fitted */\n",
       "  background: var(--sklearn-color-fitted-level-0);\n",
       "  border: var(--sklearn-color-fitted-level-3);\n",
       "}\n",
       "\n",
       ".sk-estimator-doc-link:hover span {\n",
       "  display: block;\n",
       "}\n",
       "\n",
       "/* \"?\"-specific style due to the `<a>` HTML tag */\n",
       "\n",
       "#sk-container-id-2 a.estimator_doc_link {\n",
       "  float: right;\n",
       "  font-size: 1rem;\n",
       "  line-height: 1em;\n",
       "  font-family: monospace;\n",
       "  background-color: var(--sklearn-color-background);\n",
       "  border-radius: 1rem;\n",
       "  height: 1rem;\n",
       "  width: 1rem;\n",
       "  text-decoration: none;\n",
       "  /* unfitted */\n",
       "  color: var(--sklearn-color-unfitted-level-1);\n",
       "  border: var(--sklearn-color-unfitted-level-1) 1pt solid;\n",
       "}\n",
       "\n",
       "#sk-container-id-2 a.estimator_doc_link.fitted {\n",
       "  /* fitted */\n",
       "  border: var(--sklearn-color-fitted-level-1) 1pt solid;\n",
       "  color: var(--sklearn-color-fitted-level-1);\n",
       "}\n",
       "\n",
       "/* On hover */\n",
       "#sk-container-id-2 a.estimator_doc_link:hover {\n",
       "  /* unfitted */\n",
       "  background-color: var(--sklearn-color-unfitted-level-3);\n",
       "  color: var(--sklearn-color-background);\n",
       "  text-decoration: none;\n",
       "}\n",
       "\n",
       "#sk-container-id-2 a.estimator_doc_link.fitted:hover {\n",
       "  /* fitted */\n",
       "  background-color: var(--sklearn-color-fitted-level-3);\n",
       "}\n",
       "</style><div id=\"sk-container-id-2\" class=\"sk-top-container\"><div class=\"sk-text-repr-fallback\"><pre>LinearRegression()</pre><b>In a Jupyter environment, please rerun this cell to show the HTML representation or trust the notebook. <br />On GitHub, the HTML representation is unable to render, please try loading this page with nbviewer.org.</b></div><div class=\"sk-container\" hidden><div class=\"sk-item\"><div class=\"sk-estimator fitted sk-toggleable\"><input class=\"sk-toggleable__control sk-hidden--visually\" id=\"sk-estimator-id-2\" type=\"checkbox\" checked><label for=\"sk-estimator-id-2\" class=\"sk-toggleable__label fitted sk-toggleable__label-arrow\"><div><div>LinearRegression</div></div><div><a class=\"sk-estimator-doc-link fitted\" rel=\"noreferrer\" target=\"_blank\" href=\"https://scikit-learn.org/1.6/modules/generated/sklearn.linear_model.LinearRegression.html\">?<span>Documentation for LinearRegression</span></a><span class=\"sk-estimator-doc-link fitted\">i<span>Fitted</span></span></div></label><div class=\"sk-toggleable__content fitted\"><pre>LinearRegression()</pre></div> </div></div></div></div>"
      ],
      "text/plain": [
       "LinearRegression()"
      ]
     },
     "execution_count": 65,
     "metadata": {},
     "output_type": "execute_result"
    }
   ],
   "source": [
    "from sklearn.linear_model import LinearRegression\n",
    "\n",
    "lr = LinearRegression()\n",
    "\n",
    "lr.fit(X_train, y_train)"
   ]
  },
  {
   "cell_type": "code",
   "execution_count": 68,
   "id": "4c3088cd",
   "metadata": {},
   "outputs": [
    {
     "name": "stdout",
     "output_type": "stream",
     "text": [
      "31269.30628313977\n",
      "0.5831539510557129\n"
     ]
    }
   ],
   "source": [
    "from sklearn.metrics import root_mean_squared_error, r2_score\n",
    "\n",
    "y_pred = lr.predict(X_test)\n",
    "print(root_mean_squared_error(y_test, y_pred))\n",
    "print(r2_score(y_test, y_pred))"
   ]
  },
  {
   "cell_type": "code",
   "execution_count": 20,
   "id": "329aa1a3",
   "metadata": {},
   "outputs": [
    {
     "data": {
      "image/png": "[encoded data removed]",
      "text/plain": [
       "<Figure size 800x600 with 1 Axes>"
      ]
     },
     "metadata": {},
     "output_type": "display_data"
    }
   ],
   "source": [
    "import matplotlib.pyplot as plt\n",
    "\n",
    "plt.figure(figsize=(8, 6))\n",
    "plt.scatter(y_test, y_pred, alpha=0.5)\n",
    "plt.plot([y_pred.min(), y_pred.max()], [y_pred.min(), y_pred.max()], 'r--')\n",
    "plt.xlabel(\"Фактические значения (y_test)\")\n",
    "plt.ylabel(\"Предсказанные значения (y_pred)\")\n",
    "plt.title(\"Фактические vs Предсказанные значения\")\n",
    "plt.grid(True)\n",
    "plt.show()"
   ]
  },
  {
   "cell_type": "code",
   "execution_count": 21,
   "id": "664c8bfe",
   "metadata": {},
   "outputs": [
    {
     "name": "stderr",
     "output_type": "stream",
     "text": [
      "d:\\code\\mlhw\\.venv\\Lib\\site-packages\\tqdm\\auto.py:21: TqdmWarning: IProgress not found. Please update jupyter and ipywidgets. See https://ipywidgets.readthedocs.io/en/stable/user_install.html\n",
      "  from .autonotebook import tqdm as notebook_tqdm\n"
     ]
    }
   ],
   "source": [
    "from sklearn.model_selection import KFold\n",
    "from tqdm.auto import tqdm\n",
    "\n",
    "def cv(X, y, model, n_splits):\n",
    "    kf = KFold(n_splits)\n",
    "\n",
    "    rmse_arr = []\n",
    "    r2_arr = []\n",
    "\n",
    "    for train, test in tqdm(kf.split(X, y), total=n_splits):\n",
    "        X_train, X_test, y_train, y_test = X.iloc[train], X.iloc[test], y.iloc[train], y.iloc[test]\n",
    "        clf = model.fit(X_train, y_train)\n",
    "        rmse = np.array([-root_mean_squared_error(y_test, p) for p in clf.staged_predict(X_test)])\n",
    "        r2 = np.array([r2_score(y_test, p) for p in clf.staged_predict(X_test)])\n",
    "        rmse_arr.append(rmse)\n",
    "        r2_arr.append(r2)\n",
    "\n",
    "    return np.array(rmse_arr), np.array(r2_arr)"
   ]
  },
  {
   "cell_type": "code",
   "execution_count": 22,
   "id": "7839fde4",
   "metadata": {},
   "outputs": [
    {
     "name": "stderr",
     "output_type": "stream",
     "text": [
      "100%|██████████| 5/5 [04:14<00:00, 50.88s/it]\n",
      "100%|██████████| 5/5 [06:54<00:00, 82.85s/it]\n",
      "100%|██████████| 5/5 [16:29<00:00, 198.00s/it]\n",
      "100%|██████████| 5/5 [08:18<00:00, 99.67s/it] \n",
      "100%|██████████| 5/5 [15:35<00:00, 187.11s/it]\n"
     ]
    }
   ],
   "source": [
    "from sklearn.ensemble import GradientBoostingRegressor\n",
    "\n",
    "gb_1 = GradientBoostingRegressor(n_estimators=1000, learning_rate=0.1, max_depth=3, random_state=11)\n",
    "gb_2 = GradientBoostingRegressor(n_estimators=1000, learning_rate=0.1, max_depth=5, random_state=11)\n",
    "gb_3 = GradientBoostingRegressor(n_estimators=1000, learning_rate=0.1, max_depth=8, random_state=11)\n",
    "\n",
    "gb_4 = GradientBoostingRegressor(n_estimators=1000, learning_rate=0.01, max_depth=5, random_state=11)\n",
    "gb_5 = GradientBoostingRegressor(n_estimators=1000, learning_rate=0.01, max_depth=8, random_state=11)\n",
    "\n",
    "cv_gb1_rmse, cv_gb1_r2 = cv(X_nocat, y, gb_1, 5)\n",
    "cv_gb2_rmse, cv_gb2_r2 = cv(X_nocat, y, gb_2, 5)\n",
    "cv_gb3_rmse, cv_gb3_r2 = cv(X_nocat, y, gb_3, 5)\n",
    "cv_gb4_rmse, cv_gb4_r2 = cv(X_nocat, y, gb_4, 5)\n",
    "cv_gb5_rmse, cv_gb5_r2 = cv(X_nocat, y, gb_5, 5)"
   ]
  },
  {
   "cell_type": "code",
   "execution_count": 23,
   "id": "70e723b7",
   "metadata": {},
   "outputs": [
    {
     "name": "stdout",
     "output_type": "stream",
     "text": [
      "max - -23492.892161695065 argmax - 220\n",
      "max - -23118.186190013523 argmax - 65\n",
      "max - -23402.502897682018 argmax - 35\n",
      "max - -23092.769962230428 argmax - 688\n",
      "max - -23318.40005490931 argmax - 384\n"
     ]
    },
    {
     "data": {
      "image/png": "[encoded data removed]",
      "text/plain": [
       "<Figure size 1200x600 with 1 Axes>"
      ]
     },
     "metadata": {},
     "output_type": "display_data"
    }
   ],
   "source": [
    "plt.figure(figsize=(12, 6))\n",
    "plt.plot(cv_gb1_rmse.mean(axis=0), label='lr=0.1, d=3')\n",
    "plt.plot(cv_gb3_rmse.mean(axis=0), label='lr=0.1, d=5')\n",
    "plt.plot(cv_gb2_rmse.mean(axis=0), label='lr=0.1, d=8')\n",
    "plt.plot(cv_gb4_rmse.mean(axis=0), label='lr=0.01, d=5')\n",
    "plt.plot(cv_gb5_rmse.mean(axis=0), label='lr=0.01, d=8')\n",
    "plt.ylim((-36000, -22000))\n",
    "plt.grid()\n",
    "plt.legend()\n",
    "\n",
    "print(f\"max - {np.max(cv_gb1_rmse.mean(axis=0))} argmax - {np.argmax(cv_gb1_rmse.mean(axis=0))}\")\n",
    "print(f\"max - {np.max(cv_gb2_rmse.mean(axis=0))} argmax - {np.argmax(cv_gb2_rmse.mean(axis=0))}\")\n",
    "print(f\"max - {np.max(cv_gb3_rmse.mean(axis=0))} argmax - {np.argmax(cv_gb3_rmse.mean(axis=0))}\")\n",
    "print(f\"max - {np.max(cv_gb4_rmse.mean(axis=0))} argmax - {np.argmax(cv_gb4_rmse.mean(axis=0))}\")\n",
    "print(f\"max - {np.max(cv_gb5_rmse.mean(axis=0))} argmax - {np.argmax(cv_gb5_rmse.mean(axis=0))}\")"
   ]
  },
  {
   "cell_type": "code",
   "execution_count": 24,
   "id": "03b29ed8",
   "metadata": {},
   "outputs": [
    {
     "name": "stdout",
     "output_type": "stream",
     "text": [
      "max - 0.7620266128220625 argmax - 220\n",
      "max - 0.7694872988801105 argmax - 65\n",
      "max - 0.7636947271866796 argmax - 35\n",
      "max - 0.7699989473497358 argmax - 748\n"
     ]
    },
    {
     "data": {
      "image/png": "[encoded data removed]",
      "text/plain": [
       "<Figure size 1200x600 with 1 Axes>"
      ]
     },
     "metadata": {},
     "output_type": "display_data"
    }
   ],
   "source": [
    "plt.figure(figsize=(12, 6))\n",
    "plt.plot(cv_gb1_r2.mean(axis=0), label='lr=0.1, d=3')\n",
    "plt.plot(cv_gb2_r2.mean(axis=0), label='lr=0.1, d=5')\n",
    "plt.plot(cv_gb3_r2.mean(axis=0), label='lr=0.1, d=8')\n",
    "plt.plot(cv_gb4_r2.mean(axis=0), label='lr=0.01, d=5')\n",
    "plt.plot(cv_gb5_r2.mean(axis=0), label='lr=0.01, d=8')\n",
    "plt.ylim((0.4, 0.8))\n",
    "plt.grid()\n",
    "plt.legend()\n",
    "\n",
    "print(f\"max - {np.max(cv_gb1_r2.mean(axis=0))} argmax - {np.argmax(cv_gb1_r2.mean(axis=0))}\")\n",
    "print(f\"max - {np.max(cv_gb2_r2.mean(axis=0))} argmax - {np.argmax(cv_gb2_r2.mean(axis=0))}\")\n",
    "print(f\"max - {np.max(cv_gb3_r2.mean(axis=0))} argmax - {np.argmax(cv_gb3_r2.mean(axis=0))}\")\n",
    "print(f\"max - {np.max(cv_gb4_r2.mean(axis=0))} argmax - {np.argmax(cv_gb4_r2.mean(axis=0))}\")"
   ]
  },
  {
   "cell_type": "code",
   "execution_count": null,
   "id": "61574544",
   "metadata": {},
   "outputs": [],
   "source": [
    "gb_3.fit(X_train, y_train)\n",
    "y_pred = gb_3.predict(X_test)"
   ]
  },
  {
   "cell_type": "code",
   "execution_count": 26,
   "id": "4010a24c",
   "metadata": {},
   "outputs": [
    {
     "name": "stdout",
     "output_type": "stream",
     "text": [
      "24697.493967636816\n",
      "0.7399571167851905\n"
     ]
    }
   ],
   "source": [
    "print(root_mean_squared_error(y_test, y_pred))\n",
    "print(r2_score(y_test, y_pred))"
   ]
  },
  {
   "cell_type": "code",
   "execution_count": 27,
   "id": "101e51aa",
   "metadata": {},
   "outputs": [],
   "source": [
    "X = pd.concat([X_nocat, X_cat], axis=1)"
   ]
  },
  {
   "cell_type": "code",
   "execution_count": 28,
   "id": "13207015",
   "metadata": {},
   "outputs": [
    {
     "data": {
      "application/vnd.microsoft.datawrangler.viewer.v0+json": {
       "columns": [
        {
         "name": "index",
         "rawType": "int64",
         "type": "integer"
        },
        {
         "name": "Age",
         "rawType": "float64",
         "type": "float"
        },
        {
         "name": "Loan Amount Request (USD)",
         "rawType": "float64",
         "type": "float"
        },
        {
         "name": "Credit Score",
         "rawType": "float64",
         "type": "float"
        },
        {
         "name": "Property Age",
         "rawType": "float64",
         "type": "float"
        },
        {
         "name": "Co-Applicant",
         "rawType": "float64",
         "type": "float"
        },
        {
         "name": "Gender",
         "rawType": "object",
         "type": "unknown"
        },
        {
         "name": "Profession",
         "rawType": "object",
         "type": "string"
        },
        {
         "name": "Location",
         "rawType": "object",
         "type": "string"
        }
       ],
       "conversionMethod": "pd.DataFrame",
       "ref": "9edb018f-603f-4691-9390-402be71a0cd5",
       "rows": [
        [
         "0",
         "56.0",
         "72809.58",
         "809.44",
         "1933.05",
         "1.0",
         "F",
         "Working",
         "Semi-Urban"
        ],
        [
         "1",
         "32.0",
         "46837.47",
         "780.4",
         "4952.91",
         "1.0",
         "M",
         "Working",
         "Semi-Urban"
        ],
        [
         "2",
         "65.0",
         "45593.04",
         "833.15",
         "988.19",
         "0.0",
         "F",
         "Pensioner",
         "Semi-Urban"
        ],
        [
         "3",
         "65.0",
         "80057.92",
         "832.7",
         "2631.317284738956",
         "1.0",
         "F",
         "Pensioner",
         "Rural"
        ],
        [
         "4",
         "31.0",
         "113858.89",
         "745.55",
         "2614.77",
         "1.0",
         "F",
         "Working",
         "Semi-Urban"
        ],
        [
         "5",
         "60.0",
         "34434.72",
         "684.12",
         "1234.92",
         "1.0",
         "F",
         "State servant",
         "Rural"
        ],
        [
         "6",
         "43.0",
         "152561.34",
         "637.29",
         "2361.56",
         "1.0",
         "M",
         "Working",
         "Semi-Urban"
        ],
        [
         "7",
         "45.0",
         "240311.77",
         "812.26",
         "2631.317284738956",
         "1.0",
         "F",
         "State servant",
         "Semi-Urban"
        ],
        [
         "8",
         "38.0",
         "35141.99",
         "705.29",
         "1296.07",
         "1.0",
         "F",
         "Working",
         "Rural"
        ],
        [
         "9",
         "18.0",
         "42091.29",
         "613.24",
         "1546.17",
         "1.0",
         "M",
         "Working",
         "Rural"
        ],
        [
         "10",
         "18.0",
         "25765.72",
         "652.41",
         "2416.86",
         "1.0",
         "M",
         "State servant",
         "Semi-Urban"
        ],
        [
         "11",
         "39.0",
         "20879.96",
         "646.21",
         "2719.74",
         "0.0",
         "F",
         "Commercial associate",
         "Semi-Urban"
        ],
        [
         "12",
         "48.0",
         "96080.6",
         "764.11",
         "777.25",
         "1.0",
         "F",
         "Working",
         "Semi-Urban"
        ],
        [
         "13",
         "43.0",
         "48894.06",
         "726.28",
         "997.25",
         "1.0",
         "F",
         "Working",
         "Rural"
        ],
        [
         "14",
         "61.0",
         "72448.95",
         "781.51",
         "1664.52",
         "1.0",
         "M",
         "Working",
         "Semi-Urban"
        ],
        [
         "15",
         "54.0",
         "116487.58",
         "749.33",
         "3716.54",
         "1.0",
         "F",
         "Working",
         "Rural"
        ],
        [
         "16",
         "61.0",
         "70815.01",
         "779.55",
         "2077.42",
         "1.0",
         "F",
         "Working",
         "Semi-Urban"
        ],
        [
         "17",
         "64.0",
         "89489.99",
         "803.04",
         "2346.88",
         "1.0",
         "M",
         "Working",
         "Rural"
        ],
        [
         "18",
         "65.0",
         "66567.35",
         "862.33",
         "1523.03",
         "0.0",
         "M",
         "Pensioner",
         "Semi-Urban"
        ],
        [
         "19",
         "41.0",
         "112910.57",
         "722.74",
         "1837.17",
         "1.0",
         "F",
         "Working",
         "Rural"
        ],
        [
         "20",
         "32.0",
         "93103.63",
         "671.65",
         "1537.82",
         "0.0",
         "F",
         "Working",
         "Rural"
        ],
        [
         "21",
         "19.0",
         "57810.08",
         "787.74",
         "2889.94",
         "1.0",
         "F",
         "Working",
         "Rural"
        ],
        [
         "22",
         "44.0",
         "12402.54",
         "804.2",
         "1266.06",
         "1.0",
         "F",
         "Working",
         "Semi-Urban"
        ],
        [
         "23",
         "24.0",
         "120525.64",
         "721.27",
         "2538.85",
         "1.0",
         "F",
         "Working",
         "Rural"
        ],
        [
         "24",
         "55.0",
         "115851.35",
         "712.05",
         "2497.4",
         "0.0",
         "F",
         "Working",
         "Semi-Urban"
        ],
        [
         "25",
         "63.0",
         "38101.51",
         "860.88",
         "700.07",
         "1.0",
         "F",
         "Pensioner",
         "Semi-Urban"
        ],
        [
         "26",
         "18.0",
         "95922.71",
         "620.0",
         "4028.01",
         "0.0",
         "M",
         "State servant",
         "Rural"
        ],
        [
         "27",
         "18.0",
         "99492.44",
         "733.68",
         "5350.94",
         "0.0",
         "F",
         "Commercial associate",
         "Semi-Urban"
        ],
        [
         "28",
         "23.0",
         "168825.55",
         "637.03",
         "4141.15",
         "0.0",
         "F",
         "State servant",
         "Rural"
        ],
        [
         "29",
         "29.0",
         "234770.77",
         "767.85",
         "3880.49",
         "1.0",
         "M",
         "Working",
         "Urban"
        ],
        [
         "30",
         "32.0",
         "30195.97",
         "739.853474812433",
         "2478.54",
         "1.0",
         "F",
         "Working",
         "Semi-Urban"
        ],
        [
         "31",
         "18.0",
         "85927.28",
         "688.21",
         "2631.317284738956",
         "1.0",
         "F",
         "Working",
         "Semi-Urban"
        ],
        [
         "32",
         "28.0",
         "17503.0",
         "855.97",
         "2474.33",
         "1.0",
         "F",
         "Working",
         "Semi-Urban"
        ],
        [
         "33",
         "18.0",
         "35595.86",
         "706.08",
         "1220.16",
         "1.0",
         "F",
         "Working",
         "Semi-Urban"
        ],
        [
         "34",
         "18.0",
         "91850.54",
         "834.62",
         "1671.02",
         "1.0",
         "M",
         "State servant",
         "Semi-Urban"
        ],
        [
         "35",
         "49.0",
         "43299.94",
         "651.45",
         "1974.82",
         "1.0",
         "F",
         "Working",
         "Semi-Urban"
        ],
        [
         "36",
         "61.0",
         "186715.38",
         "748.38",
         "5302.28",
         "1.0",
         "F",
         "Working",
         "Rural"
        ],
        [
         "37",
         "18.0",
         "18386.57",
         "672.32",
         "2368.34",
         "1.0",
         "F",
         "Working",
         "Semi-Urban"
        ],
        [
         "38",
         "28.0",
         "39290.22",
         "630.73",
         "2067.66",
         "1.0",
         "M",
         "Working",
         "Semi-Urban"
        ],
        [
         "39",
         "18.0",
         "121963.5",
         "721.18",
         "7885.56",
         "1.0",
         "M",
         "Commercial associate",
         "Urban"
        ],
        [
         "40",
         "30.0",
         "65332.24",
         "707.3",
         "4096.07",
         "1.0",
         "M",
         "Working",
         "Semi-Urban"
        ],
        [
         "41",
         "54.0",
         "133531.81",
         "861.21",
         "5330.72",
         "1.0",
         "F",
         "Working",
         "Semi-Urban"
        ],
        [
         "42",
         "37.0",
         "85145.49",
         "855.18",
         "2680.38",
         "1.0",
         "M",
         "Commercial associate",
         "Semi-Urban"
        ],
        [
         "43",
         "51.0",
         "40679.95",
         "799.57",
         "3384.91",
         "1.0",
         "M",
         "Working",
         "Semi-Urban"
        ],
        [
         "44",
         "18.0",
         "41837.3",
         "747.21",
         "1694.53",
         "1.0",
         "F",
         "Commercial associate",
         "Rural"
        ],
        [
         "45",
         "27.0",
         "123034.46",
         "715.43",
         "1960.17",
         "0.0",
         "F",
         "Working",
         "Semi-Urban"
        ],
        [
         "46",
         "54.0",
         "55863.31",
         "797.47",
         "1871.92",
         "1.0",
         "M",
         "Working",
         "Semi-Urban"
        ],
        [
         "47",
         "44.0",
         "75574.36",
         "755.48",
         "1761.15",
         "1.0",
         "F",
         "Working",
         "Semi-Urban"
        ],
        [
         "48",
         "64.0",
         "171270.39",
         "733.67",
         "2478.3",
         "1.0",
         "M",
         "Working",
         "Semi-Urban"
        ],
        [
         "49",
         "59.0",
         "155502.39",
         "855.39",
         "2631.317284738956",
         "1.0",
         "M",
         "Commercial associate",
         "Semi-Urban"
        ]
       ],
       "shape": {
        "columns": 8,
        "rows": 29660
       }
      },
      "text/html": [
       "<div>\n",
       "<style scoped>\n",
       "    .dataframe tbody tr th:only-of-type {\n",
       "        vertical-align: middle;\n",
       "    }\n",
       "\n",
       "    .dataframe tbody tr th {\n",
       "        vertical-align: top;\n",
       "    }\n",
       "\n",
       "    .dataframe thead th {\n",
       "        text-align: right;\n",
       "    }\n",
       "</style>\n",
       "<table border=\"1\" class=\"dataframe\">\n",
       "  <thead>\n",
       "    <tr style=\"text-align: right;\">\n",
       "      <th></th>\n",
       "      <th>Age</th>\n",
       "      <th>Loan Amount Request (USD)</th>\n",
       "      <th>Credit Score</th>\n",
       "      <th>Property Age</th>\n",
       "      <th>Co-Applicant</th>\n",
       "      <th>Gender</th>\n",
       "      <th>Profession</th>\n",
       "      <th>Location</th>\n",
       "    </tr>\n",
       "  </thead>\n",
       "  <tbody>\n",
       "    <tr>\n",
       "      <th>0</th>\n",
       "      <td>56.0</td>\n",
       "      <td>72809.58</td>\n",
       "      <td>809.440000</td>\n",
       "      <td>1933.050000</td>\n",
       "      <td>1.0</td>\n",
       "      <td>F</td>\n",
       "      <td>Working</td>\n",
       "      <td>Semi-Urban</td>\n",
       "    </tr>\n",
       "    <tr>\n",
       "      <th>1</th>\n",
       "      <td>32.0</td>\n",
       "      <td>46837.47</td>\n",
       "      <td>780.400000</td>\n",
       "      <td>4952.910000</td>\n",
       "      <td>1.0</td>\n",
       "      <td>M</td>\n",
       "      <td>Working</td>\n",
       "      <td>Semi-Urban</td>\n",
       "    </tr>\n",
       "    <tr>\n",
       "      <th>2</th>\n",
       "      <td>65.0</td>\n",
       "      <td>45593.04</td>\n",
       "      <td>833.150000</td>\n",
       "      <td>988.190000</td>\n",
       "      <td>0.0</td>\n",
       "      <td>F</td>\n",
       "      <td>Pensioner</td>\n",
       "      <td>Semi-Urban</td>\n",
       "    </tr>\n",
       "    <tr>\n",
       "      <th>3</th>\n",
       "      <td>65.0</td>\n",
       "      <td>80057.92</td>\n",
       "      <td>832.700000</td>\n",
       "      <td>2631.317285</td>\n",
       "      <td>1.0</td>\n",
       "      <td>F</td>\n",
       "      <td>Pensioner</td>\n",
       "      <td>Rural</td>\n",
       "    </tr>\n",
       "    <tr>\n",
       "      <th>4</th>\n",
       "      <td>31.0</td>\n",
       "      <td>113858.89</td>\n",
       "      <td>745.550000</td>\n",
       "      <td>2614.770000</td>\n",
       "      <td>1.0</td>\n",
       "      <td>F</td>\n",
       "      <td>Working</td>\n",
       "      <td>Semi-Urban</td>\n",
       "    </tr>\n",
       "    <tr>\n",
       "      <th>...</th>\n",
       "      <td>...</td>\n",
       "      <td>...</td>\n",
       "      <td>...</td>\n",
       "      <td>...</td>\n",
       "      <td>...</td>\n",
       "      <td>...</td>\n",
       "      <td>...</td>\n",
       "      <td>...</td>\n",
       "    </tr>\n",
       "    <tr>\n",
       "      <th>29995</th>\n",
       "      <td>38.0</td>\n",
       "      <td>76657.90</td>\n",
       "      <td>869.610000</td>\n",
       "      <td>4969.410000</td>\n",
       "      <td>1.0</td>\n",
       "      <td>M</td>\n",
       "      <td>Commercial associate</td>\n",
       "      <td>Urban</td>\n",
       "    </tr>\n",
       "    <tr>\n",
       "      <th>29996</th>\n",
       "      <td>20.0</td>\n",
       "      <td>66595.14</td>\n",
       "      <td>729.410000</td>\n",
       "      <td>1606.880000</td>\n",
       "      <td>1.0</td>\n",
       "      <td>M</td>\n",
       "      <td>Working</td>\n",
       "      <td>Semi-Urban</td>\n",
       "    </tr>\n",
       "    <tr>\n",
       "      <th>29997</th>\n",
       "      <td>49.0</td>\n",
       "      <td>81410.08</td>\n",
       "      <td>739.853475</td>\n",
       "      <td>2631.317285</td>\n",
       "      <td>1.0</td>\n",
       "      <td>F</td>\n",
       "      <td>Working</td>\n",
       "      <td>Urban</td>\n",
       "    </tr>\n",
       "    <tr>\n",
       "      <th>29998</th>\n",
       "      <td>38.0</td>\n",
       "      <td>142524.10</td>\n",
       "      <td>677.270000</td>\n",
       "      <td>2417.710000</td>\n",
       "      <td>1.0</td>\n",
       "      <td>M</td>\n",
       "      <td>Working</td>\n",
       "      <td>Semi-Urban</td>\n",
       "    </tr>\n",
       "    <tr>\n",
       "      <th>29999</th>\n",
       "      <td>63.0</td>\n",
       "      <td>156290.54</td>\n",
       "      <td>815.440000</td>\n",
       "      <td>3068.240000</td>\n",
       "      <td>1.0</td>\n",
       "      <td>F</td>\n",
       "      <td>Pensioner</td>\n",
       "      <td>Rural</td>\n",
       "    </tr>\n",
       "  </tbody>\n",
       "</table>\n",
       "<p>29660 rows × 8 columns</p>\n",
       "</div>"
      ],
      "text/plain": [
       "        Age  Loan Amount Request (USD)  Credit Score  Property Age  \\\n",
       "0      56.0                   72809.58    809.440000   1933.050000   \n",
       "1      32.0                   46837.47    780.400000   4952.910000   \n",
       "2      65.0                   45593.04    833.150000    988.190000   \n",
       "3      65.0                   80057.92    832.700000   2631.317285   \n",
       "4      31.0                  113858.89    745.550000   2614.770000   \n",
       "...     ...                        ...           ...           ...   \n",
       "29995  38.0                   76657.90    869.610000   4969.410000   \n",
       "29996  20.0                   66595.14    729.410000   1606.880000   \n",
       "29997  49.0                   81410.08    739.853475   2631.317285   \n",
       "29998  38.0                  142524.10    677.270000   2417.710000   \n",
       "29999  63.0                  156290.54    815.440000   3068.240000   \n",
       "\n",
       "       Co-Applicant Gender            Profession    Location  \n",
       "0               1.0      F               Working  Semi-Urban  \n",
       "1               1.0      M               Working  Semi-Urban  \n",
       "2               0.0      F             Pensioner  Semi-Urban  \n",
       "3               1.0      F             Pensioner       Rural  \n",
       "4               1.0      F               Working  Semi-Urban  \n",
       "...             ...    ...                   ...         ...  \n",
       "29995           1.0      M  Commercial associate       Urban  \n",
       "29996           1.0      M               Working  Semi-Urban  \n",
       "29997           1.0      F               Working       Urban  \n",
       "29998           1.0      M               Working  Semi-Urban  \n",
       "29999           1.0      F             Pensioner       Rural  \n",
       "\n",
       "[29660 rows x 8 columns]"
      ]
     },
     "execution_count": 28,
     "metadata": {},
     "output_type": "execute_result"
    }
   ],
   "source": [
    "X"
   ]
  },
  {
   "cell_type": "code",
   "execution_count": 29,
   "id": "e5f56b1b",
   "metadata": {},
   "outputs": [],
   "source": [
    "X_oh = pd.get_dummies(X)"
   ]
  },
  {
   "cell_type": "code",
   "execution_count": 30,
   "id": "a697822e",
   "metadata": {},
   "outputs": [],
   "source": [
    "from sklearn.preprocessing import TargetEncoder\n",
    "\n",
    "enc = TargetEncoder()\n",
    "\n",
    "cat_cols = ['Gender', 'Profession', 'Location']\n",
    "\n",
    "X[cat_cols] = enc.fit_transform(X[cat_cols], y)"
   ]
  },
  {
   "cell_type": "markdown",
   "id": "cc6fc59d",
   "metadata": {},
   "source": [
    "One hot"
   ]
  },
  {
   "cell_type": "code",
   "execution_count": 31,
   "id": "49cadb89",
   "metadata": {},
   "outputs": [
    {
     "name": "stdout",
     "output_type": "stream",
     "text": [
      "31279.66080090135\n",
      "0.5828778365542682\n"
     ]
    }
   ],
   "source": [
    "X_train, X_test, y_train, y_test = train_test_split(X_oh, y, test_size=0.2, random_state=11)\n",
    "lrx = LinearRegression()\n",
    "lrx.fit(X_train, y_train)\n",
    "y_pred = lrx.predict(X_test)\n",
    "print(root_mean_squared_error(y_test, y_pred))\n",
    "print(r2_score(y_test, y_pred))"
   ]
  },
  {
   "cell_type": "code",
   "execution_count": 32,
   "id": "20870065",
   "metadata": {},
   "outputs": [
    {
     "data": {
      "text/plain": [
       "0         54607.18\n",
       "1         37469.98\n",
       "2         36474.43\n",
       "3         56040.54\n",
       "4         74008.28\n",
       "           ...    \n",
       "29995     68992.11\n",
       "29996     46616.60\n",
       "29997     61057.56\n",
       "29998     99766.87\n",
       "29999    117217.90\n",
       "Name: Loan Sanction Amount (USD), Length: 29660, dtype: float64"
      ]
     },
     "execution_count": 32,
     "metadata": {},
     "output_type": "execute_result"
    }
   ],
   "source": [
    "y"
   ]
  },
  {
   "cell_type": "code",
   "execution_count": 33,
   "id": "e91bde5d",
   "metadata": {},
   "outputs": [
    {
     "name": "stderr",
     "output_type": "stream",
     "text": [
      "100%|██████████| 5/5 [05:04<00:00, 60.97s/it]\n",
      "100%|██████████| 5/5 [08:37<00:00, 103.41s/it]\n",
      "100%|██████████| 5/5 [14:45<00:00, 177.02s/it]\n",
      "100%|██████████| 5/5 [09:26<00:00, 113.28s/it]\n",
      "100%|██████████| 5/5 [41:54<00:00, 502.86s/it]\n"
     ]
    }
   ],
   "source": [
    "from sklearn.ensemble import GradientBoostingRegressor\n",
    "\n",
    "gb_1 = GradientBoostingRegressor(n_estimators=1000, learning_rate=0.1, max_depth=3, random_state=11)\n",
    "gb_2 = GradientBoostingRegressor(n_estimators=1000, learning_rate=0.1, max_depth=5, random_state=11)\n",
    "\n",
    "gb_3 = GradientBoostingRegressor(n_estimators=1000, learning_rate=0.1, max_depth=8, random_state=11)\n",
    "gb_4 = GradientBoostingRegressor(n_estimators=1000, learning_rate=0.01, max_depth=5, random_state=11)\n",
    "\n",
    "gb_5 = GradientBoostingRegressor(n_estimators=1000, learning_rate=0.01, max_depth=8, random_state=11)\n",
    "\n",
    "cv_gb1_rmse, cv_gb1_r2 = cv(X_oh, y, gb_1, 5)\n",
    "cv_gb2_rmse, cv_gb2_r2 = cv(X_oh, y, gb_2, 5)\n",
    "cv_gb3_rmse, cv_gb3_r2 = cv(X_oh, y, gb_3, 5)\n",
    "cv_gb4_rmse, cv_gb4_r2 = cv(X_oh, y, gb_4, 5)\n",
    "cv_gb5_rmse, cv_gb5_r2 = cv(X_oh, y, gb_5, 5)"
   ]
  },
  {
   "cell_type": "code",
   "execution_count": 34,
   "id": "5ecfc832",
   "metadata": {},
   "outputs": [
    {
     "name": "stdout",
     "output_type": "stream",
     "text": [
      "max - -23147.356979326094 argmax - 286\n",
      "max - -22744.392184041215 argmax - 73\n",
      "max - -22967.93812085402 argmax - 39\n",
      "max - -22694.408802016977 argmax - 647\n",
      "max - -22914.641171937536 argmax - 427\n"
     ]
    },
    {
     "data": {
      "image/png": "[encoded data removed]",
      "text/plain": [
       "<Figure size 1200x600 with 1 Axes>"
      ]
     },
     "metadata": {},
     "output_type": "display_data"
    }
   ],
   "source": [
    "plt.figure(figsize=(12, 6))\n",
    "plt.plot(cv_gb1_rmse.mean(axis=0), label='lr=0.1, d=3')\n",
    "plt.plot(cv_gb3_rmse.mean(axis=0), label='lr=0.1, d=5')\n",
    "plt.plot(cv_gb2_rmse.mean(axis=0), label='lr=0.1, d=8')\n",
    "plt.plot(cv_gb4_rmse.mean(axis=0), label='lr=0.01, d=5')\n",
    "plt.plot(cv_gb5_rmse.mean(axis=0), label='lr=0.01, d=8')\n",
    "plt.ylim((-36000, -22000))\n",
    "plt.grid()\n",
    "plt.legend()\n",
    "\n",
    "print(f\"max - {np.max(cv_gb1_rmse.mean(axis=0))} argmax - {np.argmax(cv_gb1_rmse.mean(axis=0))}\")\n",
    "print(f\"max - {np.max(cv_gb2_rmse.mean(axis=0))} argmax - {np.argmax(cv_gb2_rmse.mean(axis=0))}\")\n",
    "print(f\"max - {np.max(cv_gb3_rmse.mean(axis=0))} argmax - {np.argmax(cv_gb3_rmse.mean(axis=0))}\")\n",
    "print(f\"max - {np.max(cv_gb4_rmse.mean(axis=0))} argmax - {np.argmax(cv_gb4_rmse.mean(axis=0))}\")\n",
    "print(f\"max - {np.max(cv_gb5_rmse.mean(axis=0))} argmax - {np.argmax(cv_gb5_rmse.mean(axis=0))}\")"
   ]
  },
  {
   "cell_type": "code",
   "execution_count": 35,
   "id": "87e9f595",
   "metadata": {},
   "outputs": [
    {
     "name": "stdout",
     "output_type": "stream",
     "text": [
      "24476.827565828902\n",
      "0.7445832036849234\n"
     ]
    }
   ],
   "source": [
    "gb_3.fit(X_train, y_train)\n",
    "y_pred = gb_3.predict(X_test)\n",
    "\n",
    "print(root_mean_squared_error(y_test, y_pred))\n",
    "print(r2_score(y_test, y_pred))"
   ]
  },
  {
   "cell_type": "markdown",
   "id": "dba9b4e6",
   "metadata": {},
   "source": [
    "Target "
   ]
  },
  {
   "cell_type": "code",
   "execution_count": 36,
   "id": "f74027aa",
   "metadata": {},
   "outputs": [
    {
     "name": "stdout",
     "output_type": "stream",
     "text": [
      "31269.174001064417\n",
      "0.583157477910023\n"
     ]
    }
   ],
   "source": [
    "X_train, X_test, y_train, y_test = train_test_split(X, y, test_size=0.2, random_state=11)\n",
    "lrx = LinearRegression()\n",
    "lrx.fit(X_train, y_train)\n",
    "y_pred = lrx.predict(X_test)\n",
    "print(root_mean_squared_error(y_test, y_pred))\n",
    "print(r2_score(y_test, y_pred))"
   ]
  },
  {
   "cell_type": "code",
   "execution_count": 37,
   "id": "ce806d0a",
   "metadata": {},
   "outputs": [
    {
     "name": "stderr",
     "output_type": "stream",
     "text": [
      "100%|██████████| 5/5 [13:52<00:00, 166.47s/it]\n",
      "100%|██████████| 5/5 [14:14<00:00, 170.89s/it]\n",
      "100%|██████████| 5/5 [12:03<00:00, 144.72s/it]\n",
      "100%|██████████| 5/5 [07:04<00:00, 84.89s/it]\n",
      "100%|██████████| 5/5 [10:58<00:00, 131.65s/it]\n"
     ]
    }
   ],
   "source": [
    "from sklearn.ensemble import GradientBoostingRegressor\n",
    "\n",
    "gb_1 = GradientBoostingRegressor(n_estimators=1000, learning_rate=0.1, max_depth=3, random_state=11)\n",
    "gb_2 = GradientBoostingRegressor(n_estimators=1000, learning_rate=0.1, max_depth=5, random_state=11)\n",
    "gb_3 = GradientBoostingRegressor(n_estimators=1000, learning_rate=0.1, max_depth=8, random_state=11)\n",
    "gb_4 = GradientBoostingRegressor(n_estimators=1000, learning_rate=0.01, max_depth=5, random_state=11)\n",
    "gb_5 = GradientBoostingRegressor(n_estimators=1000, learning_rate=0.01, max_depth=8, random_state=11)\n",
    "\n",
    "cv_gb1_rmse, cv_gb1_r2 = cv(X, y, gb_1, 5)\n",
    "cv_gb2_rmse, cv_gb2_r2 = cv(X, y, gb_2, 5)\n",
    "cv_gb3_rmse, cv_gb3_r2 = cv(X, y, gb_3, 5)\n",
    "cv_gb4_rmse, cv_gb4_r2 = cv(X, y, gb_4, 5)\n",
    "cv_gb5_rmse, cv_gb5_r2 = cv(X, y, gb_5, 5)"
   ]
  },
  {
   "cell_type": "code",
   "execution_count": null,
   "id": "9ff52386",
   "metadata": {},
   "outputs": [
    {
     "name": "stdout",
     "output_type": "stream",
     "text": [
      "max - -23260.32165983606 argmax - 276\n",
      "max - -22735.972156408443 argmax - 77\n",
      "max - -23083.820947371412 argmax - 35\n",
      "max - -22731.26826374223 argmax - 677\n",
      "max - -23031.59359782375 argmax - 419\n"
     ]
    },
    {
     "data": {
      "image/png": "[encoded data removed]",
      "text/plain": [
       "<Figure size 1200x600 with 1 Axes>"
      ]
     },
     "metadata": {},
     "output_type": "display_data"
    }
   ],
   "source": [
    "plt.figure(figsize=(12, 6))\n",
    "plt.plot(cv_gb1_rmse.mean(axis=0), label='lr=0.1, d=3')\n",
    "plt.plot(cv_gb3_rmse.mean(axis=0), label='lr=0.1, d=5')\n",
    "plt.plot(cv_gb2_rmse.mean(axis=0), label='lr=0.1, d=8')\n",
    "plt.plot(cv_gb4_rmse.mean(axis=0), label='lr=0.01, d=5')\n",
    "plt.plot(cv_gb5_rmse.mean(axis=0), label='lr=0.01, d=8')\n",
    "plt.ylim((-36000, -22000))\n",
    "plt.grid()\n",
    "plt.legend()\n",
    "\n",
    "print(f\"max - {np.max(cv_gb1_rmse.mean(axis=0))} argmax - {np.argmax(cv_gb1_rmse.mean(axis=0))}\")\n",
    "print(f\"max - {np.max(cv_gb2_rmse.mean(axis=0))} argmax - {np.argmax(cv_gb2_rmse.mean(axis=0))}\")\n",
    "print(f\"max - {np.max(cv_gb3_rmse.mean(axis=0))} argmax - {np.argmax(cv_gb3_rmse.mean(axis=0))}\")\n",
    "print(f\"max - {np.max(cv_gb4_rmse.mean(axis=0))} argmax - {np.argmax(cv_gb4_rmse.mean(axis=0))}\")\n",
    "print(f\"max - {np.max(cv_gb5_rmse.mean(axis=0))} argmax - {np.argmax(cv_gb5_rmse.mean(axis=0))}\")"
   ]
  },
  {
   "cell_type": "code",
   "execution_count": null,
   "id": "de6d49c2",
   "metadata": {},
   "outputs": [
    {
     "name": "stdout",
     "output_type": "stream",
     "text": [
      "24650.94470160809\n",
      "0.7409364386497295\n"
     ]
    }
   ],
   "source": [
    "gb_3.fit(X_train, y_train)\n",
    "y_pred = gb_3.predict(X_test)\n",
    "\n",
    "print(root_mean_squared_error(y_test, y_pred))\n",
    "print(r2_score(y_test, y_pred))"
   ]
  },
  {
   "cell_type": "markdown",
   "id": "9a39191b",
   "metadata": {},
   "source": [
    "## PCA"
   ]
  },
  {
   "cell_type": "code",
   "execution_count": 46,
   "id": "899c9216",
   "metadata": {},
   "outputs": [
    {
     "data": {
      "image/png": "[encoded data removed]",
      "text/plain": [
       "<Figure size 1200x600 with 4 Axes>"
      ]
     },
     "metadata": {},
     "output_type": "display_data"
    }
   ],
   "source": [
    "import matplotlib.pyplot as plt\n",
    "from sklearn.datasets import load_wine\n",
    "from sklearn.decomposition import PCA\n",
    "from sklearn.preprocessing import StandardScaler\n",
    "\n",
    "features, target = load_wine(return_X_y=True)\n",
    "\n",
    "plt.figure(figsize=(12, 6))\n",
    "\n",
    "plt.subplot(1, 2, 1)\n",
    "pca = PCA(n_components=2)\n",
    "principal_components = pca.fit_transform(features)\n",
    "plt.scatter(principal_components[:, 0], principal_components[:, 1], c=target, cmap='viridis')\n",
    "plt.title('Без нормализации')\n",
    "plt.colorbar(label='Класс')\n",
    "\n",
    "\n",
    "plt.subplot(1, 2, 2)\n",
    "scaler = StandardScaler()\n",
    "features_scaled = scaler.fit_transform(features)\n",
    "pca = PCA(n_components=2)\n",
    "principal_components_scaled = pca.fit_transform(features_scaled)\n",
    "plt.scatter(principal_components_scaled[:, 0], principal_components_scaled[:, 1], c=target, cmap='viridis')\n",
    "plt.title('С нормализацией')\n",
    "plt.colorbar(label='Класс')\n",
    "\n",
    "plt.tight_layout()\n",
    "plt.show()"
   ]
  }
 ],
 "metadata": {
  "kernelspec": {
   "display_name": ".venv",
   "language": "python",
   "name": "python3"
  },
  "language_info": {
   "codemirror_mode": {
    "name": "ipython",
    "version": 3
   },
   "file_extension": ".py",
   "mimetype": "text/x-python",
   "name": "python",
   "nbconvert_exporter": "python",
   "pygments_lexer": "ipython3",
   "version": "3.11.8"
  }
 },
 "nbformat": 4,
 "nbformat_minor": 5
}
